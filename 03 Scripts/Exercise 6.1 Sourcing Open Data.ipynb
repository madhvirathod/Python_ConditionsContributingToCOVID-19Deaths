{
 "cells": [
  {
   "cell_type": "markdown",
   "id": "4bda9416",
   "metadata": {},
   "source": [
    "## Import the libraries"
   ]
  },
  {
   "cell_type": "code",
   "execution_count": 1,
   "id": "92e89ed8",
   "metadata": {},
   "outputs": [],
   "source": [
    "import pandas as pd\n",
    "import numpy as np\n",
    "import os\n",
    "import matplotlib.pyplot as plt\n",
    "import seaborn as sns"
   ]
  },
  {
   "cell_type": "markdown",
   "id": "4049236d",
   "metadata": {},
   "source": [
    "## Import the dataset and check it"
   ]
  },
  {
   "cell_type": "code",
   "execution_count": 4,
   "id": "20bacd1d",
   "metadata": {},
   "outputs": [],
   "source": [
    "path = r\"C:\\Users\\tjsra\\OneDrive\\Desktop\\CF data analyst\\Achievement 6\\02 Data\\Original Data\\Conditions_Contributing_to_COVID-19_Deaths__by_State_and_Age__Provisional_2020-2023.csv\""
   ]
  },
  {
   "cell_type": "code",
   "execution_count": 6,
   "id": "eb7e519d",
   "metadata": {},
   "outputs": [],
   "source": [
    "df_covid = pd.read_csv(path)"
   ]
  },
  {
   "cell_type": "code",
   "execution_count": 7,
   "id": "1eea667b",
   "metadata": {},
   "outputs": [
    {
     "data": {
      "text/html": [
       "<div>\n",
       "<style scoped>\n",
       "    .dataframe tbody tr th:only-of-type {\n",
       "        vertical-align: middle;\n",
       "    }\n",
       "\n",
       "    .dataframe tbody tr th {\n",
       "        vertical-align: top;\n",
       "    }\n",
       "\n",
       "    .dataframe thead th {\n",
       "        text-align: right;\n",
       "    }\n",
       "</style>\n",
       "<table border=\"1\" class=\"dataframe\">\n",
       "  <thead>\n",
       "    <tr style=\"text-align: right;\">\n",
       "      <th></th>\n",
       "      <th>Data As Of</th>\n",
       "      <th>Start Date</th>\n",
       "      <th>End Date</th>\n",
       "      <th>Group</th>\n",
       "      <th>Year</th>\n",
       "      <th>Month</th>\n",
       "      <th>State</th>\n",
       "      <th>Condition Group</th>\n",
       "      <th>Condition</th>\n",
       "      <th>ICD10_codes</th>\n",
       "      <th>Age Group</th>\n",
       "      <th>COVID-19 Deaths</th>\n",
       "      <th>Number of Mentions</th>\n",
       "      <th>Flag</th>\n",
       "    </tr>\n",
       "  </thead>\n",
       "  <tbody>\n",
       "    <tr>\n",
       "      <th>0</th>\n",
       "      <td>09/24/2023</td>\n",
       "      <td>01/01/2020</td>\n",
       "      <td>09/23/2023</td>\n",
       "      <td>By Total</td>\n",
       "      <td>NaN</td>\n",
       "      <td>NaN</td>\n",
       "      <td>United States</td>\n",
       "      <td>Respiratory diseases</td>\n",
       "      <td>Influenza and pneumonia</td>\n",
       "      <td>J09-J18</td>\n",
       "      <td>0-24</td>\n",
       "      <td>1569.0</td>\n",
       "      <td>1647.0</td>\n",
       "      <td>NaN</td>\n",
       "    </tr>\n",
       "    <tr>\n",
       "      <th>1</th>\n",
       "      <td>09/24/2023</td>\n",
       "      <td>01/01/2020</td>\n",
       "      <td>09/23/2023</td>\n",
       "      <td>By Total</td>\n",
       "      <td>NaN</td>\n",
       "      <td>NaN</td>\n",
       "      <td>United States</td>\n",
       "      <td>Respiratory diseases</td>\n",
       "      <td>Influenza and pneumonia</td>\n",
       "      <td>J09-J18</td>\n",
       "      <td>25-34</td>\n",
       "      <td>5804.0</td>\n",
       "      <td>6029.0</td>\n",
       "      <td>NaN</td>\n",
       "    </tr>\n",
       "    <tr>\n",
       "      <th>2</th>\n",
       "      <td>09/24/2023</td>\n",
       "      <td>01/01/2020</td>\n",
       "      <td>09/23/2023</td>\n",
       "      <td>By Total</td>\n",
       "      <td>NaN</td>\n",
       "      <td>NaN</td>\n",
       "      <td>United States</td>\n",
       "      <td>Respiratory diseases</td>\n",
       "      <td>Influenza and pneumonia</td>\n",
       "      <td>J09-J18</td>\n",
       "      <td>35-44</td>\n",
       "      <td>15080.0</td>\n",
       "      <td>15699.0</td>\n",
       "      <td>NaN</td>\n",
       "    </tr>\n",
       "    <tr>\n",
       "      <th>3</th>\n",
       "      <td>09/24/2023</td>\n",
       "      <td>01/01/2020</td>\n",
       "      <td>09/23/2023</td>\n",
       "      <td>By Total</td>\n",
       "      <td>NaN</td>\n",
       "      <td>NaN</td>\n",
       "      <td>United States</td>\n",
       "      <td>Respiratory diseases</td>\n",
       "      <td>Influenza and pneumonia</td>\n",
       "      <td>J09-J18</td>\n",
       "      <td>45-54</td>\n",
       "      <td>37414.0</td>\n",
       "      <td>38878.0</td>\n",
       "      <td>NaN</td>\n",
       "    </tr>\n",
       "    <tr>\n",
       "      <th>4</th>\n",
       "      <td>09/24/2023</td>\n",
       "      <td>01/01/2020</td>\n",
       "      <td>09/23/2023</td>\n",
       "      <td>By Total</td>\n",
       "      <td>NaN</td>\n",
       "      <td>NaN</td>\n",
       "      <td>United States</td>\n",
       "      <td>Respiratory diseases</td>\n",
       "      <td>Influenza and pneumonia</td>\n",
       "      <td>J09-J18</td>\n",
       "      <td>55-64</td>\n",
       "      <td>82668.0</td>\n",
       "      <td>85708.0</td>\n",
       "      <td>NaN</td>\n",
       "    </tr>\n",
       "  </tbody>\n",
       "</table>\n",
       "</div>"
      ],
      "text/plain": [
       "   Data As Of  Start Date    End Date     Group  Year  Month          State  \\\n",
       "0  09/24/2023  01/01/2020  09/23/2023  By Total   NaN    NaN  United States   \n",
       "1  09/24/2023  01/01/2020  09/23/2023  By Total   NaN    NaN  United States   \n",
       "2  09/24/2023  01/01/2020  09/23/2023  By Total   NaN    NaN  United States   \n",
       "3  09/24/2023  01/01/2020  09/23/2023  By Total   NaN    NaN  United States   \n",
       "4  09/24/2023  01/01/2020  09/23/2023  By Total   NaN    NaN  United States   \n",
       "\n",
       "        Condition Group                Condition ICD10_codes Age Group  \\\n",
       "0  Respiratory diseases  Influenza and pneumonia     J09-J18      0-24   \n",
       "1  Respiratory diseases  Influenza and pneumonia     J09-J18     25-34   \n",
       "2  Respiratory diseases  Influenza and pneumonia     J09-J18     35-44   \n",
       "3  Respiratory diseases  Influenza and pneumonia     J09-J18     45-54   \n",
       "4  Respiratory diseases  Influenza and pneumonia     J09-J18     55-64   \n",
       "\n",
       "   COVID-19 Deaths  Number of Mentions Flag  \n",
       "0           1569.0              1647.0  NaN  \n",
       "1           5804.0              6029.0  NaN  \n",
       "2          15080.0             15699.0  NaN  \n",
       "3          37414.0             38878.0  NaN  \n",
       "4          82668.0             85708.0  NaN  "
      ]
     },
     "execution_count": 7,
     "metadata": {},
     "output_type": "execute_result"
    }
   ],
   "source": [
    "df_covid.head()"
   ]
  },
  {
   "cell_type": "code",
   "execution_count": 8,
   "id": "fbaeeb01",
   "metadata": {},
   "outputs": [
    {
     "name": "stdout",
     "output_type": "stream",
     "text": [
      "<class 'pandas.core.frame.DataFrame'>\n",
      "RangeIndex: 621000 entries, 0 to 620999\n",
      "Data columns (total 14 columns):\n",
      " #   Column              Non-Null Count   Dtype  \n",
      "---  ------              --------------   -----  \n",
      " 0   Data As Of          621000 non-null  object \n",
      " 1   Start Date          621000 non-null  object \n",
      " 2   End Date            621000 non-null  object \n",
      " 3   Group               621000 non-null  object \n",
      " 4   Year                608580 non-null  float64\n",
      " 5   Month               558900 non-null  float64\n",
      " 6   State               621000 non-null  object \n",
      " 7   Condition Group     621000 non-null  object \n",
      " 8   Condition           621000 non-null  object \n",
      " 9   ICD10_codes         621000 non-null  object \n",
      " 10  Age Group           621000 non-null  object \n",
      " 11  COVID-19 Deaths     437551 non-null  float64\n",
      " 12  Number of Mentions  443423 non-null  float64\n",
      " 13  Flag                183449 non-null  object \n",
      "dtypes: float64(4), object(10)\n",
      "memory usage: 66.3+ MB\n"
     ]
    }
   ],
   "source": [
    "df_covid.info()"
   ]
  },
  {
   "cell_type": "code",
   "execution_count": 9,
   "id": "b2a11870",
   "metadata": {},
   "outputs": [
    {
     "data": {
      "text/plain": [
       "(621000, 14)"
      ]
     },
     "execution_count": 9,
     "metadata": {},
     "output_type": "execute_result"
    }
   ],
   "source": [
    "df_covid.shape"
   ]
  },
  {
   "cell_type": "markdown",
   "id": "b8b37747",
   "metadata": {},
   "source": [
    "## 2. Data Exploration\n",
    "###  We can see three different kind of variables such as categorical variables, numerical variables and date variables. 1.categorical variable are: State, Condition Group, Condition, ICD10_codes, Age Group, Flag.  2.Numerical variables are: Year, Month, COVID-19 Deaths, Number of Mentions.  3. Date Variables: Data As Of, Start date, End Date.\n",
    "            "
   ]
  },
  {
   "cell_type": "markdown",
   "id": "66482a1c",
   "metadata": {},
   "source": [
    "### Let's check the basic statistics of the numerical variables."
   ]
  },
  {
   "cell_type": "code",
   "execution_count": 10,
   "id": "cda8932d",
   "metadata": {},
   "outputs": [
    {
     "data": {
      "text/html": [
       "<div>\n",
       "<style scoped>\n",
       "    .dataframe tbody tr th:only-of-type {\n",
       "        vertical-align: middle;\n",
       "    }\n",
       "\n",
       "    .dataframe tbody tr th {\n",
       "        vertical-align: top;\n",
       "    }\n",
       "\n",
       "    .dataframe thead th {\n",
       "        text-align: right;\n",
       "    }\n",
       "</style>\n",
       "<table border=\"1\" class=\"dataframe\">\n",
       "  <thead>\n",
       "    <tr style=\"text-align: right;\">\n",
       "      <th></th>\n",
       "      <th>Year</th>\n",
       "      <th>Month</th>\n",
       "      <th>COVID-19 Deaths</th>\n",
       "      <th>Number of Mentions</th>\n",
       "    </tr>\n",
       "  </thead>\n",
       "  <tbody>\n",
       "    <tr>\n",
       "      <th>count</th>\n",
       "      <td>608580.000000</td>\n",
       "      <td>558900.000000</td>\n",
       "      <td>4.375510e+05</td>\n",
       "      <td>4.434230e+05</td>\n",
       "    </tr>\n",
       "    <tr>\n",
       "      <th>mean</th>\n",
       "      <td>2021.408163</td>\n",
       "      <td>6.200000</td>\n",
       "      <td>1.201179e+02</td>\n",
       "      <td>1.293348e+02</td>\n",
       "    </tr>\n",
       "    <tr>\n",
       "      <th>std</th>\n",
       "      <td>1.086436</td>\n",
       "      <td>3.350625</td>\n",
       "      <td>2.980201e+03</td>\n",
       "      <td>3.203936e+03</td>\n",
       "    </tr>\n",
       "    <tr>\n",
       "      <th>min</th>\n",
       "      <td>2020.000000</td>\n",
       "      <td>1.000000</td>\n",
       "      <td>0.000000e+00</td>\n",
       "      <td>0.000000e+00</td>\n",
       "    </tr>\n",
       "    <tr>\n",
       "      <th>25%</th>\n",
       "      <td>2020.000000</td>\n",
       "      <td>3.000000</td>\n",
       "      <td>0.000000e+00</td>\n",
       "      <td>0.000000e+00</td>\n",
       "    </tr>\n",
       "    <tr>\n",
       "      <th>50%</th>\n",
       "      <td>2021.000000</td>\n",
       "      <td>6.000000</td>\n",
       "      <td>0.000000e+00</td>\n",
       "      <td>0.000000e+00</td>\n",
       "    </tr>\n",
       "    <tr>\n",
       "      <th>75%</th>\n",
       "      <td>2022.000000</td>\n",
       "      <td>9.000000</td>\n",
       "      <td>1.800000e+01</td>\n",
       "      <td>1.900000e+01</td>\n",
       "    </tr>\n",
       "    <tr>\n",
       "      <th>max</th>\n",
       "      <td>2023.000000</td>\n",
       "      <td>12.000000</td>\n",
       "      <td>1.146242e+06</td>\n",
       "      <td>1.146242e+06</td>\n",
       "    </tr>\n",
       "  </tbody>\n",
       "</table>\n",
       "</div>"
      ],
      "text/plain": [
       "                Year          Month  COVID-19 Deaths  Number of Mentions\n",
       "count  608580.000000  558900.000000     4.375510e+05        4.434230e+05\n",
       "mean     2021.408163       6.200000     1.201179e+02        1.293348e+02\n",
       "std         1.086436       3.350625     2.980201e+03        3.203936e+03\n",
       "min      2020.000000       1.000000     0.000000e+00        0.000000e+00\n",
       "25%      2020.000000       3.000000     0.000000e+00        0.000000e+00\n",
       "50%      2021.000000       6.000000     0.000000e+00        0.000000e+00\n",
       "75%      2022.000000       9.000000     1.800000e+01        1.900000e+01\n",
       "max      2023.000000      12.000000     1.146242e+06        1.146242e+06"
      ]
     },
     "execution_count": 10,
     "metadata": {},
     "output_type": "execute_result"
    }
   ],
   "source": [
    "df_covid.describe()"
   ]
  },
  {
   "cell_type": "markdown",
   "id": "6d6d7598",
   "metadata": {},
   "source": [
    "### The years ranging from 2020 to 2023 and months ranging from 1 to 12 (January to December). COVID-19 Deaths and Number of Mentions have a large number of Zeroes and high maximum values. so high degree of variability in the COVID-19 Deaths and Number of Mentions columns. Let's check the numerical variables through histograms and box plots."
   ]
  },
  {
   "cell_type": "code",
   "execution_count": 11,
   "id": "6e26fde3",
   "metadata": {},
   "outputs": [
    {
     "data": {
      "image/png": "[encoded data removed]",
      "text/plain": [
       "<Figure size 1500x1500 with 12 Axes>"
      ]
     },
     "metadata": {},
     "output_type": "display_data"
    }
   ],
   "source": [
    "df_covid.hist(bins=15, figsize=(15, 15), layout=(4, 3))\n",
    "plt.tight_layout()\n",
    "plt.show()"
   ]
  },
  {
   "cell_type": "code",
   "execution_count": 12,
   "id": "b9c27eb7",
   "metadata": {},
   "outputs": [
    {
     "data": {
      "image/png": "[encoded data removed]",
      "text/plain": [
       "<Figure size 640x480 with 1 Axes>"
      ]
     },
     "metadata": {},
     "output_type": "display_data"
    },
    {
     "data": {
      "image/png": "[encoded data removed]",
      "text/plain": [
       "<Figure size 640x480 with 1 Axes>"
      ]
     },
     "metadata": {},
     "output_type": "display_data"
    },
    {
     "data": {
      "image/png": "[encoded data removed]",
      "text/plain": [
       "<Figure size 640x480 with 1 Axes>"
      ]
     },
     "metadata": {},
     "output_type": "display_data"
    },
    {
     "data": {
      "image/png": "[encoded data removed]",
      "text/plain": [
       "<Figure size 640x480 with 1 Axes>"
      ]
     },
     "metadata": {},
     "output_type": "display_data"
    }
   ],
   "source": [
    "plt.boxplot(df_covid['Year'].dropna())\n",
    "plt.title('Year')\n",
    "plt.show()\n",
    "\n",
    "plt.boxplot(df_covid['Month'].dropna())\n",
    "plt.title('Month')\n",
    "plt.show()\n",
    "\n",
    "plt.boxplot(df_covid['COVID-19 Deaths'].dropna())\n",
    "plt.title('COVID-19 Deaths')\n",
    "plt.show()\n",
    "\n",
    "plt.boxplot(df_covid['Number of Mentions'].dropna())\n",
    "plt.title('Number of Mentions')\n",
    "plt.show()"
   ]
  },
  {
   "cell_type": "markdown",
   "id": "36ed4b1a",
   "metadata": {},
   "source": [
    "### COVID-19 & Number of Mentions are highly right-skewed with a high number of outliers. \n",
    "### Now Let's Check the frequency counts for the categorical variables."
   ]
  },
  {
   "cell_type": "code",
   "execution_count": 13,
   "id": "d211de5a",
   "metadata": {},
   "outputs": [
    {
     "name": "stdout",
     "output_type": "stream",
     "text": [
      "State\n",
      "United States           11500\n",
      "Pennsylvania            11500\n",
      "Nevada                  11500\n",
      "New Hampshire           11500\n",
      "New Jersey              11500\n",
      "New Mexico              11500\n",
      "New York                11500\n",
      "New York City           11500\n",
      "North Carolina          11500\n",
      "North Dakota            11500\n",
      "Ohio                    11500\n",
      "Oklahoma                11500\n",
      "Oregon                  11500\n",
      "Rhode Island            11500\n",
      "Alabama                 11500\n",
      "South Carolina          11500\n",
      "South Dakota            11500\n",
      "Tennessee               11500\n",
      "Texas                   11500\n",
      "Utah                    11500\n",
      "Vermont                 11500\n",
      "Virginia                11500\n",
      "Washington              11500\n",
      "West Virginia           11500\n",
      "Wisconsin               11500\n",
      "Wyoming                 11500\n",
      "Nebraska                11500\n",
      "Montana                 11500\n",
      "Missouri                11500\n",
      "Mississippi             11500\n",
      "Alaska                  11500\n",
      "Arizona                 11500\n",
      "Arkansas                11500\n",
      "California              11500\n",
      "Colorado                11500\n",
      "Connecticut             11500\n",
      "Delaware                11500\n",
      "District of Columbia    11500\n",
      "Florida                 11500\n",
      "Georgia                 11500\n",
      "Hawaii                  11500\n",
      "Idaho                   11500\n",
      "Illinois                11500\n",
      "Indiana                 11500\n",
      "Iowa                    11500\n",
      "Kansas                  11500\n",
      "Kentucky                11500\n",
      "Louisiana               11500\n",
      "Maine                   11500\n",
      "Maryland                11500\n",
      "Massachusetts           11500\n",
      "Michigan                11500\n",
      "Minnesota               11500\n",
      "Puerto Rico             11500\n",
      "Name: count, dtype: int64\n",
      "Condition Group\n",
      "Circulatory diseases                                                         189000\n",
      "Respiratory diseases                                                         162000\n",
      "Sepsis                                                                        27000\n",
      "Malignant neoplasms                                                           27000\n",
      "Diabetes                                                                      27000\n",
      "Obesity                                                                       27000\n",
      "Alzheimer disease                                                             27000\n",
      "Vascular and unspecified dementia                                             27000\n",
      "Renal failure                                                                 27000\n",
      "Intentional and unintentional injury, poisoning, and other adverse events     27000\n",
      "All other conditions and causes (residual)                                    27000\n",
      "COVID-19                                                                      27000\n",
      "Name: count, dtype: int64\n",
      "Condition\n",
      "Influenza and pneumonia                                                      27000\n",
      "Other diseases of the circulatory system                                     27000\n",
      "All other conditions and causes (residual)                                   27000\n",
      "Intentional and unintentional injury, poisoning, and other adverse events    27000\n",
      "Renal failure                                                                27000\n",
      "Vascular and unspecified dementia                                            27000\n",
      "Alzheimer disease                                                            27000\n",
      "Obesity                                                                      27000\n",
      "Diabetes                                                                     27000\n",
      "Malignant neoplasms                                                          27000\n",
      "Sepsis                                                                       27000\n",
      "Cerebrovascular diseases                                                     27000\n",
      "Chronic lower respiratory diseases                                           27000\n",
      "Heart failure                                                                27000\n",
      "Cardiac arrhythmia                                                           27000\n",
      "Cardiac arrest                                                               27000\n",
      "Ischemic heart disease                                                       27000\n",
      "Hypertensive diseases                                                        27000\n",
      "Other diseases of the respiratory system                                     27000\n",
      "Respiratory arrest                                                           27000\n",
      "Respiratory failure                                                          27000\n",
      "Adult respiratory distress syndrome                                          27000\n",
      "COVID-19                                                                     27000\n",
      "Name: count, dtype: int64\n",
      "ICD10_codes\n",
      "J09-J18                                                                                                                                                                                 27000\n",
      "I00-I09, I26-I43, I51, I52, I70-I99                                                                                                                                                     27000\n",
      "A00-A39, A42-B99, D00-E07, E15-E64, E70-E90, F00, F02, F04-G26, G31-H95, K00-K93, L00-M99, N00-N16, N20-N98, O00-O99, P00-P96, Q00-Q99, R00-R08, R09.0, R09.1, R09.3, R09.8, R10-R99    27000\n",
      "S00-T98, V01-X59, X60-X84, X85-Y09, Y10-Y36, Y40-Y89, U01-U03                                                                                                                           27000\n",
      "N17-N19                                                                                                                                                                                 27000\n",
      "F01, F03                                                                                                                                                                                27000\n",
      "G30                                                                                                                                                                                     27000\n",
      "E65-E68                                                                                                                                                                                 27000\n",
      "E10-E14                                                                                                                                                                                 27000\n",
      "C00-C97                                                                                                                                                                                 27000\n",
      "A40-A41                                                                                                                                                                                 27000\n",
      "I60-I69                                                                                                                                                                                 27000\n",
      "J40-J47                                                                                                                                                                                 27000\n",
      "I50                                                                                                                                                                                     27000\n",
      "I44, I45, I47-I49                                                                                                                                                                       27000\n",
      "I46                                                                                                                                                                                     27000\n",
      "I20-I25                                                                                                                                                                                 27000\n",
      "I10-I15                                                                                                                                                                                 27000\n",
      "J00-J06, J20-J39, J60-J70, J81-J86, J90-J95, J97-J99, U04                                                                                                                               27000\n",
      "R09.2                                                                                                                                                                                   27000\n",
      "J96                                                                                                                                                                                     27000\n",
      "J80                                                                                                                                                                                     27000\n",
      "U071                                                                                                                                                                                    27000\n",
      "Name: count, dtype: int64\n",
      "Age Group\n",
      "0-24          62100\n",
      "25-34         62100\n",
      "35-44         62100\n",
      "45-54         62100\n",
      "55-64         62100\n",
      "65-74         62100\n",
      "75-84         62100\n",
      "85+           62100\n",
      "Not stated    62100\n",
      "All Ages      62100\n",
      "Name: count, dtype: int64\n",
      "Flag\n",
      "NaN                                                                                                                           437551\n",
      "One or more data cells have counts between 1-9 and have been suppressed in accordance with NCHS confidentiality standards.    183449\n",
      "Name: count, dtype: int64\n"
     ]
    }
   ],
   "source": [
    "print(df_covid['State'].value_counts(dropna=False))\n",
    "\n",
    "print(df_covid['Condition Group'].value_counts(dropna=False))\n",
    "\n",
    "print(df_covid['Condition'].value_counts(dropna=False))\n",
    "\n",
    "print(df_covid['ICD10_codes'].value_counts(dropna=False))\n",
    "\n",
    "print(df_covid['Age Group'].value_counts(dropna=False))\n",
    "\n",
    "print(df_covid['Flag'].value_counts(dropna=False))"
   ]
  },
  {
   "cell_type": "markdown",
   "id": "63d11f1e",
   "metadata": {},
   "source": [
    "### It look like distribution of records is very uniform across states, condition groups, conditions, ICD10 codes, and age groups. The flag column contains mostly missing values."
   ]
  },
  {
   "cell_type": "markdown",
   "id": "dd1c4b03",
   "metadata": {},
   "source": [
    "## 3. Checking for missing values"
   ]
  },
  {
   "cell_type": "code",
   "execution_count": 14,
   "id": "80b0ab0f",
   "metadata": {},
   "outputs": [
    {
     "data": {
      "text/plain": [
       "Data As Of                 0\n",
       "Start Date                 0\n",
       "End Date                   0\n",
       "Group                      0\n",
       "Year                   12420\n",
       "Month                  62100\n",
       "State                      0\n",
       "Condition Group            0\n",
       "Condition                  0\n",
       "ICD10_codes                0\n",
       "Age Group                  0\n",
       "COVID-19 Deaths       183449\n",
       "Number of Mentions    177577\n",
       "Flag                  437551\n",
       "dtype: int64"
      ]
     },
     "execution_count": 14,
     "metadata": {},
     "output_type": "execute_result"
    }
   ],
   "source": [
    "df_covid.isnull().sum()"
   ]
  },
  {
   "cell_type": "markdown",
   "id": "e19c42ce",
   "metadata": {},
   "source": [
    "### The rows with missing values in the year column indicates that these are all part of the group' By Total'. so it is clear that the year column is empty because the row represents an aggregation. The missing values in the month column also correspond to then the Group column is either 'By Total' or 'By Year' , again indicating these rows represent aggregated data. Removing these rows of aggregated data will address the missing values in both the year and Month columns, as well as provide more accurate descriptive statistics of the dataset."
   ]
  },
  {
   "cell_type": "markdown",
   "id": "06028db4",
   "metadata": {},
   "source": [
    "### Seprate the dataframe into two parts, one that includes Group only' By Month' and that includes Group ' By Total' and 'By Year'."
   ]
  },
  {
   "cell_type": "code",
   "execution_count": 15,
   "id": "3907d2dd",
   "metadata": {},
   "outputs": [],
   "source": [
    "df_covid_month = df_covid[df_covid['Group'] == 'By Month']\n",
    "df_covid_total_year = df_covid[df_covid['Group'].isin(['By Total', 'By Year'])]"
   ]
  },
  {
   "cell_type": "markdown",
   "id": "c213c691",
   "metadata": {},
   "source": [
    "### Let's varify the separation"
   ]
  },
  {
   "cell_type": "code",
   "execution_count": 16,
   "id": "59a5e670",
   "metadata": {},
   "outputs": [
    {
     "name": "stdout",
     "output_type": "stream",
     "text": [
      "<class 'pandas.core.frame.DataFrame'>\n",
      "Index: 558900 entries, 62100 to 620999\n",
      "Data columns (total 14 columns):\n",
      " #   Column              Non-Null Count   Dtype  \n",
      "---  ------              --------------   -----  \n",
      " 0   Data As Of          558900 non-null  object \n",
      " 1   Start Date          558900 non-null  object \n",
      " 2   End Date            558900 non-null  object \n",
      " 3   Group               558900 non-null  object \n",
      " 4   Year                558900 non-null  float64\n",
      " 5   Month               558900 non-null  float64\n",
      " 6   State               558900 non-null  object \n",
      " 7   Condition Group     558900 non-null  object \n",
      " 8   Condition           558900 non-null  object \n",
      " 9   ICD10_codes         558900 non-null  object \n",
      " 10  Age Group           558900 non-null  object \n",
      " 11  COVID-19 Deaths     388500 non-null  float64\n",
      " 12  Number of Mentions  393720 non-null  float64\n",
      " 13  Flag                170400 non-null  object \n",
      "dtypes: float64(4), object(10)\n",
      "memory usage: 64.0+ MB\n",
      "<class 'pandas.core.frame.DataFrame'>\n",
      "Index: 62100 entries, 0 to 62099\n",
      "Data columns (total 14 columns):\n",
      " #   Column              Non-Null Count  Dtype  \n",
      "---  ------              --------------  -----  \n",
      " 0   Data As Of          62100 non-null  object \n",
      " 1   Start Date          62100 non-null  object \n",
      " 2   End Date            62100 non-null  object \n",
      " 3   Group               62100 non-null  object \n",
      " 4   Year                49680 non-null  float64\n",
      " 5   Month               0 non-null      float64\n",
      " 6   State               62100 non-null  object \n",
      " 7   Condition Group     62100 non-null  object \n",
      " 8   Condition           62100 non-null  object \n",
      " 9   ICD10_codes         62100 non-null  object \n",
      " 10  Age Group           62100 non-null  object \n",
      " 11  COVID-19 Deaths     49051 non-null  float64\n",
      " 12  Number of Mentions  49703 non-null  float64\n",
      " 13  Flag                13049 non-null  object \n",
      "dtypes: float64(4), object(10)\n",
      "memory usage: 7.1+ MB\n"
     ]
    }
   ],
   "source": [
    "df_covid_month.info()\n",
    "df_covid_total_year.info()"
   ]
  },
  {
   "cell_type": "markdown",
   "id": "4177ea25",
   "metadata": {},
   "source": [
    "### Let's check the total rows add up correctly"
   ]
  },
  {
   "cell_type": "code",
   "execution_count": 17,
   "id": "48ef028e",
   "metadata": {},
   "outputs": [
    {
     "data": {
      "text/plain": [
       "621000"
      ]
     },
     "execution_count": 17,
     "metadata": {},
     "output_type": "execute_result"
    }
   ],
   "source": [
    "len(df_covid)"
   ]
  },
  {
   "cell_type": "code",
   "execution_count": 18,
   "id": "6671fea6",
   "metadata": {},
   "outputs": [
    {
     "data": {
      "text/plain": [
       "621000"
      ]
     },
     "execution_count": 18,
     "metadata": {},
     "output_type": "execute_result"
    }
   ],
   "source": [
    "len(df_covid_month) + len(df_covid_total_year)"
   ]
  },
  {
   "cell_type": "markdown",
   "id": "00e0994f",
   "metadata": {},
   "source": [
    "### Recheck the number of missing values in the separated 'df_covid_month' dataframe"
   ]
  },
  {
   "cell_type": "code",
   "execution_count": 19,
   "id": "0d57ed19",
   "metadata": {},
   "outputs": [
    {
     "data": {
      "text/plain": [
       "Data As Of                 0\n",
       "Start Date                 0\n",
       "End Date                   0\n",
       "Group                      0\n",
       "Year                       0\n",
       "Month                      0\n",
       "State                      0\n",
       "Condition Group            0\n",
       "Condition                  0\n",
       "ICD10_codes                0\n",
       "Age Group                  0\n",
       "COVID-19 Deaths       170400\n",
       "Number of Mentions    165180\n",
       "Flag                  388500\n",
       "dtype: int64"
      ]
     },
     "execution_count": 19,
     "metadata": {},
     "output_type": "execute_result"
    }
   ],
   "source": [
    "df_covid_month.isnull().sum()"
   ]
  },
  {
   "cell_type": "markdown",
   "id": "8f817838",
   "metadata": {},
   "source": [
    "### The missing values in the COVID-19 Deaths and Number of Mentions columns appear to correspond with the Flag column value of 'one or more data cells have counts between 1-9 and have been suppressed in accordance with NCHS confidentiality standards. Therefore, I will imput a random number between 1 and 9 into the missing values of COVID-19 Deaths and Number of Mentions when flag indicator is present."
   ]
  },
  {
   "cell_type": "markdown",
   "id": "1ca3ac3a",
   "metadata": {},
   "source": [
    "### Define a function to generate random integers between 1 and 9"
   ]
  },
  {
   "cell_type": "code",
   "execution_count": 20,
   "id": "b9c98e21",
   "metadata": {},
   "outputs": [],
   "source": [
    "def random_1_to_9(series):\n",
    "    return series.apply(lambda x: np.random.randint(1, 10) if pd.isnull(x) else x)"
   ]
  },
  {
   "cell_type": "markdown",
   "id": "af129065",
   "metadata": {},
   "source": [
    "### Identify rows with suppression flag"
   ]
  },
  {
   "cell_type": "code",
   "execution_count": 21,
   "id": "1a6fc1fc",
   "metadata": {},
   "outputs": [],
   "source": [
    "suppression_message = \"One or more data cells have counts between 1-9 and have been suppressed in accordance with NCHS confidentiality standards.\"\n",
    "suppressed_rows = df_covid_month[df_covid_month['Flag'] == suppression_message]"
   ]
  },
  {
   "cell_type": "markdown",
   "id": "ac418cc0",
   "metadata": {},
   "source": [
    "### Imput only the missing values in COVID-19 deaths and Number of Mentions with a random number between 1-9"
   ]
  },
  {
   "cell_type": "code",
   "execution_count": 22,
   "id": "ee477336",
   "metadata": {},
   "outputs": [],
   "source": [
    "df_covid_month.loc[suppressed_rows.index, 'COVID-19 Deaths'] = random_1_to_9(suppressed_rows['COVID-19 Deaths'])\n",
    "df_covid_month.loc[suppressed_rows.index, 'Number of Mentions'] = random_1_to_9(suppressed_rows['Number of Mentions'])"
   ]
  },
  {
   "cell_type": "markdown",
   "id": "411a5903",
   "metadata": {},
   "source": [
    "### Verify the changes by comparing the number of cells with values between 1 and 9 to the number of missing values in each column before imputation"
   ]
  },
  {
   "cell_type": "markdown",
   "id": "fbd2947f",
   "metadata": {},
   "source": [
    "### Verify the changes by recheking the descriptive statistics"
   ]
  },
  {
   "cell_type": "code",
   "execution_count": 23,
   "id": "40a9eaee",
   "metadata": {},
   "outputs": [
    {
     "data": {
      "text/html": [
       "<div>\n",
       "<style scoped>\n",
       "    .dataframe tbody tr th:only-of-type {\n",
       "        vertical-align: middle;\n",
       "    }\n",
       "\n",
       "    .dataframe tbody tr th {\n",
       "        vertical-align: top;\n",
       "    }\n",
       "\n",
       "    .dataframe thead th {\n",
       "        text-align: right;\n",
       "    }\n",
       "</style>\n",
       "<table border=\"1\" class=\"dataframe\">\n",
       "  <thead>\n",
       "    <tr style=\"text-align: right;\">\n",
       "      <th></th>\n",
       "      <th>Year</th>\n",
       "      <th>Month</th>\n",
       "      <th>COVID-19 Deaths</th>\n",
       "      <th>Number of Mentions</th>\n",
       "    </tr>\n",
       "  </thead>\n",
       "  <tbody>\n",
       "    <tr>\n",
       "      <th>count</th>\n",
       "      <td>558900.000000</td>\n",
       "      <td>558900.000000</td>\n",
       "      <td>558900.000000</td>\n",
       "      <td>558900.000000</td>\n",
       "    </tr>\n",
       "    <tr>\n",
       "      <th>mean</th>\n",
       "      <td>2021.400000</td>\n",
       "      <td>6.200000</td>\n",
       "      <td>32.242024</td>\n",
       "      <td>35.049921</td>\n",
       "    </tr>\n",
       "    <tr>\n",
       "      <th>std</th>\n",
       "      <td>1.083206</td>\n",
       "      <td>3.350625</td>\n",
       "      <td>483.282397</td>\n",
       "      <td>518.791760</td>\n",
       "    </tr>\n",
       "    <tr>\n",
       "      <th>min</th>\n",
       "      <td>2020.000000</td>\n",
       "      <td>1.000000</td>\n",
       "      <td>0.000000</td>\n",
       "      <td>0.000000</td>\n",
       "    </tr>\n",
       "    <tr>\n",
       "      <th>25%</th>\n",
       "      <td>2020.000000</td>\n",
       "      <td>3.000000</td>\n",
       "      <td>0.000000</td>\n",
       "      <td>0.000000</td>\n",
       "    </tr>\n",
       "    <tr>\n",
       "      <th>50%</th>\n",
       "      <td>2021.000000</td>\n",
       "      <td>6.000000</td>\n",
       "      <td>1.000000</td>\n",
       "      <td>1.000000</td>\n",
       "    </tr>\n",
       "    <tr>\n",
       "      <th>75%</th>\n",
       "      <td>2022.000000</td>\n",
       "      <td>9.000000</td>\n",
       "      <td>8.000000</td>\n",
       "      <td>8.000000</td>\n",
       "    </tr>\n",
       "    <tr>\n",
       "      <th>max</th>\n",
       "      <td>2023.000000</td>\n",
       "      <td>12.000000</td>\n",
       "      <td>105566.000000</td>\n",
       "      <td>105566.000000</td>\n",
       "    </tr>\n",
       "  </tbody>\n",
       "</table>\n",
       "</div>"
      ],
      "text/plain": [
       "                Year          Month  COVID-19 Deaths  Number of Mentions\n",
       "count  558900.000000  558900.000000    558900.000000       558900.000000\n",
       "mean     2021.400000       6.200000        32.242024           35.049921\n",
       "std         1.083206       3.350625       483.282397          518.791760\n",
       "min      2020.000000       1.000000         0.000000            0.000000\n",
       "25%      2020.000000       3.000000         0.000000            0.000000\n",
       "50%      2021.000000       6.000000         1.000000            1.000000\n",
       "75%      2022.000000       9.000000         8.000000            8.000000\n",
       "max      2023.000000      12.000000    105566.000000       105566.000000"
      ]
     },
     "execution_count": 23,
     "metadata": {},
     "output_type": "execute_result"
    }
   ],
   "source": [
    "df_covid_month.describe()"
   ]
  },
  {
   "cell_type": "markdown",
   "id": "323ef211",
   "metadata": {},
   "source": [
    "### Verify the changes by checking value counts"
   ]
  },
  {
   "cell_type": "code",
   "execution_count": 24,
   "id": "245bb19e",
   "metadata": {},
   "outputs": [
    {
     "name": "stdout",
     "output_type": "stream",
     "text": [
      "COVID-19 Deaths\n",
      "0.0         275134\n",
      "1.0          19331\n",
      "2.0          19174\n",
      "3.0          19092\n",
      "4.0          18933\n",
      "             ...  \n",
      "63446.0          1\n",
      "65477.0          1\n",
      "83984.0          1\n",
      "98080.0          1\n",
      "105566.0         1\n",
      "Name: count, Length: 2726, dtype: int64\n",
      "Number of Mentions\n",
      "0.0         275134\n",
      "1.0          18704\n",
      "2.0          18476\n",
      "3.0          18621\n",
      "4.0          18691\n",
      "             ...  \n",
      "65364.0          1\n",
      "65477.0          1\n",
      "83984.0          1\n",
      "98080.0          1\n",
      "105566.0         1\n",
      "Name: count, Length: 2875, dtype: int64\n"
     ]
    }
   ],
   "source": [
    "print(df_covid_month['COVID-19 Deaths'].value_counts().sort_index())\n",
    "print(df_covid_month['Number of Mentions'].value_counts().sort_index())"
   ]
  },
  {
   "cell_type": "markdown",
   "id": "37bd6ff1",
   "metadata": {},
   "source": [
    "### Recheck for missing values in the dataframe"
   ]
  },
  {
   "cell_type": "code",
   "execution_count": 25,
   "id": "6fc25b3f",
   "metadata": {},
   "outputs": [
    {
     "data": {
      "text/plain": [
       "Data As Of                 0\n",
       "Start Date                 0\n",
       "End Date                   0\n",
       "Group                      0\n",
       "Year                       0\n",
       "Month                      0\n",
       "State                      0\n",
       "Condition Group            0\n",
       "Condition                  0\n",
       "ICD10_codes                0\n",
       "Age Group                  0\n",
       "COVID-19 Deaths            0\n",
       "Number of Mentions         0\n",
       "Flag                  388500\n",
       "dtype: int64"
      ]
     },
     "execution_count": 25,
     "metadata": {},
     "output_type": "execute_result"
    }
   ],
   "source": [
    "df_covid_month.isnull().sum()"
   ]
  },
  {
   "cell_type": "markdown",
   "id": "5595d1dd",
   "metadata": {},
   "source": [
    "### The only missing values remaining are in the flag column and are expected so no further action is necessary."
   ]
  },
  {
   "cell_type": "markdown",
   "id": "0292ab42",
   "metadata": {},
   "source": [
    "## 4. Checking for duplicates, mixed-type data, and performing data transformations"
   ]
  },
  {
   "cell_type": "markdown",
   "id": "fb494f3f",
   "metadata": {},
   "source": [
    "### Check for duplicates rows in the dataset"
   ]
  },
  {
   "cell_type": "code",
   "execution_count": 26,
   "id": "74b723ee",
   "metadata": {},
   "outputs": [
    {
     "data": {
      "text/plain": [
       "0"
      ]
     },
     "execution_count": 26,
     "metadata": {},
     "output_type": "execute_result"
    }
   ],
   "source": [
    "df_covid_month.duplicated().sum()"
   ]
  },
  {
   "cell_type": "markdown",
   "id": "2cd6aaac",
   "metadata": {},
   "source": [
    "### Check for any mixed-type columns"
   ]
  },
  {
   "cell_type": "code",
   "execution_count": 27,
   "id": "d6600e2d",
   "metadata": {},
   "outputs": [
    {
     "name": "stdout",
     "output_type": "stream",
     "text": [
      "No mixed-type data in column: Data As Of\n",
      "No mixed-type data in column: Start Date\n",
      "No mixed-type data in column: End Date\n",
      "No mixed-type data in column: Group\n",
      "No mixed-type data in column: Year\n",
      "No mixed-type data in column: Month\n",
      "No mixed-type data in column: State\n",
      "No mixed-type data in column: Condition Group\n",
      "No mixed-type data in column: Condition\n",
      "No mixed-type data in column: ICD10_codes\n",
      "No mixed-type data in column: Age Group\n",
      "No mixed-type data in column: COVID-19 Deaths\n",
      "No mixed-type data in column: Number of Mentions\n",
      "Mixed-type data found in column: Flag\n"
     ]
    }
   ],
   "source": [
    "for col in df_covid_month.columns.tolist():\n",
    "    weird = (df_covid_month[[col]].map(type) != df_covid_month[[col]].iloc[0].apply(type)).any(axis = 1)\n",
    "    if len (df_covid_month[weird]) > 0:\n",
    "        print (f\"Mixed-type data found in column: {col}\")\n",
    "    else: print(f\"No mixed-type data in column: {col}\")"
   ]
  },
  {
   "cell_type": "markdown",
   "id": "1c0c0929",
   "metadata": {},
   "source": [
    "### Check the data-types of the dataframe"
   ]
  },
  {
   "cell_type": "code",
   "execution_count": 28,
   "id": "aa8ce64e",
   "metadata": {},
   "outputs": [
    {
     "name": "stdout",
     "output_type": "stream",
     "text": [
      "Data As Of             object\n",
      "Start Date             object\n",
      "End Date               object\n",
      "Group                  object\n",
      "Year                  float64\n",
      "Month                 float64\n",
      "State                  object\n",
      "Condition Group        object\n",
      "Condition              object\n",
      "ICD10_codes            object\n",
      "Age Group              object\n",
      "COVID-19 Deaths       float64\n",
      "Number of Mentions    float64\n",
      "Flag                   object\n",
      "dtype: object\n"
     ]
    }
   ],
   "source": [
    "print(df_covid_month.dtypes)"
   ]
  },
  {
   "cell_type": "markdown",
   "id": "c7637d6d",
   "metadata": {},
   "source": [
    "###  Convert Date columns to Datetime"
   ]
  },
  {
   "cell_type": "code",
   "execution_count": 29,
   "id": "4728b4b9",
   "metadata": {},
   "outputs": [
    {
     "name": "stderr",
     "output_type": "stream",
     "text": [
      "C:\\Users\\tjsra\\AppData\\Local\\Temp\\ipykernel_15376\\2015304804.py:1: SettingWithCopyWarning: \n",
      "A value is trying to be set on a copy of a slice from a DataFrame.\n",
      "Try using .loc[row_indexer,col_indexer] = value instead\n",
      "\n",
      "See the caveats in the documentation: https://pandas.pydata.org/pandas-docs/stable/user_guide/indexing.html#returning-a-view-versus-a-copy\n",
      "  df_covid_month['Data As Of'] = pd.to_datetime(df_covid_month['Data As Of'])\n",
      "C:\\Users\\tjsra\\AppData\\Local\\Temp\\ipykernel_15376\\2015304804.py:2: SettingWithCopyWarning: \n",
      "A value is trying to be set on a copy of a slice from a DataFrame.\n",
      "Try using .loc[row_indexer,col_indexer] = value instead\n",
      "\n",
      "See the caveats in the documentation: https://pandas.pydata.org/pandas-docs/stable/user_guide/indexing.html#returning-a-view-versus-a-copy\n",
      "  df_covid_month['Start Date'] = pd.to_datetime(df_covid_month['Start Date'])\n",
      "C:\\Users\\tjsra\\AppData\\Local\\Temp\\ipykernel_15376\\2015304804.py:3: SettingWithCopyWarning: \n",
      "A value is trying to be set on a copy of a slice from a DataFrame.\n",
      "Try using .loc[row_indexer,col_indexer] = value instead\n",
      "\n",
      "See the caveats in the documentation: https://pandas.pydata.org/pandas-docs/stable/user_guide/indexing.html#returning-a-view-versus-a-copy\n",
      "  df_covid_month['End Date'] = pd.to_datetime(df_covid_month['End Date'])\n"
     ]
    }
   ],
   "source": [
    "df_covid_month['Data As Of'] = pd.to_datetime(df_covid_month['Data As Of'])\n",
    "df_covid_month['Start Date'] = pd.to_datetime(df_covid_month['Start Date'])\n",
    "df_covid_month['End Date'] = pd.to_datetime(df_covid_month['End Date'])"
   ]
  },
  {
   "cell_type": "markdown",
   "id": "cbef3cdd",
   "metadata": {},
   "source": [
    "### Convert categorical columns to category type for improved memory efficiency"
   ]
  },
  {
   "cell_type": "code",
   "execution_count": 30,
   "id": "236269aa",
   "metadata": {},
   "outputs": [
    {
     "name": "stderr",
     "output_type": "stream",
     "text": [
      "C:\\Users\\tjsra\\AppData\\Local\\Temp\\ipykernel_15376\\4190597650.py:3: SettingWithCopyWarning: \n",
      "A value is trying to be set on a copy of a slice from a DataFrame.\n",
      "Try using .loc[row_indexer,col_indexer] = value instead\n",
      "\n",
      "See the caveats in the documentation: https://pandas.pydata.org/pandas-docs/stable/user_guide/indexing.html#returning-a-view-versus-a-copy\n",
      "  df_covid_month[column] = df_covid_month[column].astype('category')\n",
      "C:\\Users\\tjsra\\AppData\\Local\\Temp\\ipykernel_15376\\4190597650.py:3: SettingWithCopyWarning: \n",
      "A value is trying to be set on a copy of a slice from a DataFrame.\n",
      "Try using .loc[row_indexer,col_indexer] = value instead\n",
      "\n",
      "See the caveats in the documentation: https://pandas.pydata.org/pandas-docs/stable/user_guide/indexing.html#returning-a-view-versus-a-copy\n",
      "  df_covid_month[column] = df_covid_month[column].astype('category')\n",
      "C:\\Users\\tjsra\\AppData\\Local\\Temp\\ipykernel_15376\\4190597650.py:3: SettingWithCopyWarning: \n",
      "A value is trying to be set on a copy of a slice from a DataFrame.\n",
      "Try using .loc[row_indexer,col_indexer] = value instead\n",
      "\n",
      "See the caveats in the documentation: https://pandas.pydata.org/pandas-docs/stable/user_guide/indexing.html#returning-a-view-versus-a-copy\n",
      "  df_covid_month[column] = df_covid_month[column].astype('category')\n",
      "C:\\Users\\tjsra\\AppData\\Local\\Temp\\ipykernel_15376\\4190597650.py:3: SettingWithCopyWarning: \n",
      "A value is trying to be set on a copy of a slice from a DataFrame.\n",
      "Try using .loc[row_indexer,col_indexer] = value instead\n",
      "\n",
      "See the caveats in the documentation: https://pandas.pydata.org/pandas-docs/stable/user_guide/indexing.html#returning-a-view-versus-a-copy\n",
      "  df_covid_month[column] = df_covid_month[column].astype('category')\n",
      "C:\\Users\\tjsra\\AppData\\Local\\Temp\\ipykernel_15376\\4190597650.py:3: SettingWithCopyWarning: \n",
      "A value is trying to be set on a copy of a slice from a DataFrame.\n",
      "Try using .loc[row_indexer,col_indexer] = value instead\n",
      "\n",
      "See the caveats in the documentation: https://pandas.pydata.org/pandas-docs/stable/user_guide/indexing.html#returning-a-view-versus-a-copy\n",
      "  df_covid_month[column] = df_covid_month[column].astype('category')\n",
      "C:\\Users\\tjsra\\AppData\\Local\\Temp\\ipykernel_15376\\4190597650.py:3: SettingWithCopyWarning: \n",
      "A value is trying to be set on a copy of a slice from a DataFrame.\n",
      "Try using .loc[row_indexer,col_indexer] = value instead\n",
      "\n",
      "See the caveats in the documentation: https://pandas.pydata.org/pandas-docs/stable/user_guide/indexing.html#returning-a-view-versus-a-copy\n",
      "  df_covid_month[column] = df_covid_month[column].astype('category')\n"
     ]
    }
   ],
   "source": [
    "categorical_columns = ['State', 'Condition Group', 'Condition', 'ICD10_codes', 'Age Group', 'Flag']\n",
    "for column in categorical_columns:\n",
    "    df_covid_month[column] = df_covid_month[column].astype('category')"
   ]
  },
  {
   "cell_type": "markdown",
   "id": "eeef85f6",
   "metadata": {},
   "source": [
    "### Recheck for mixed-type data"
   ]
  },
  {
   "cell_type": "code",
   "execution_count": 31,
   "id": "e2f9dbac",
   "metadata": {},
   "outputs": [
    {
     "name": "stdout",
     "output_type": "stream",
     "text": [
      "No mixed-type data in column: Data As Of\n",
      "No mixed-type data in column: Start Date\n",
      "No mixed-type data in column: End Date\n",
      "No mixed-type data in column: Group\n",
      "No mixed-type data in column: Year\n",
      "No mixed-type data in column: Month\n",
      "No mixed-type data in column: State\n",
      "No mixed-type data in column: Condition Group\n",
      "No mixed-type data in column: Condition\n",
      "No mixed-type data in column: ICD10_codes\n",
      "No mixed-type data in column: Age Group\n",
      "No mixed-type data in column: COVID-19 Deaths\n",
      "No mixed-type data in column: Number of Mentions\n",
      "Mixed-type data found in column: Flag\n"
     ]
    }
   ],
   "source": [
    "for col in df_covid_month.columns.tolist():\n",
    "    weird = (df_covid_month[[col]].map(type) != df_covid_month[[col]].iloc[0].apply(type)).any(axis = 1)\n",
    "    if len (df_covid_month[weird]) > 0:\n",
    "        print (f\"Mixed-type data found in column: {col}\")\n",
    "    else: print(f\"No mixed-type data in column: {col}\")"
   ]
  },
  {
   "cell_type": "markdown",
   "id": "4bb8ba0b",
   "metadata": {},
   "source": [
    "### Recheck the data-types"
   ]
  },
  {
   "cell_type": "code",
   "execution_count": 32,
   "id": "95dfcb99",
   "metadata": {},
   "outputs": [
    {
     "name": "stdout",
     "output_type": "stream",
     "text": [
      "Data As Of            datetime64[ns]\n",
      "Start Date            datetime64[ns]\n",
      "End Date              datetime64[ns]\n",
      "Group                         object\n",
      "Year                         float64\n",
      "Month                        float64\n",
      "State                       category\n",
      "Condition Group             category\n",
      "Condition                   category\n",
      "ICD10_codes                 category\n",
      "Age Group                   category\n",
      "COVID-19 Deaths              float64\n",
      "Number of Mentions           float64\n",
      "Flag                        category\n",
      "dtype: object\n"
     ]
    }
   ],
   "source": [
    "print(df_covid_month.dtypes)"
   ]
  },
  {
   "cell_type": "markdown",
   "id": "fa873e96",
   "metadata": {},
   "source": [
    "### Drop the Group column as it only contains 'By Month' and is no longer necessary for sorting/filtering "
   ]
  },
  {
   "cell_type": "code",
   "execution_count": 33,
   "id": "11a32b87",
   "metadata": {},
   "outputs": [],
   "source": [
    "df_covid_month = df_covid_month.drop(columns=['Group'])"
   ]
  },
  {
   "cell_type": "markdown",
   "id": "657178b2",
   "metadata": {},
   "source": [
    "### Verify the changes"
   ]
  },
  {
   "cell_type": "code",
   "execution_count": 34,
   "id": "eb81783e",
   "metadata": {},
   "outputs": [
    {
     "name": "stdout",
     "output_type": "stream",
     "text": [
      "Index(['Data As Of', 'Start Date', 'End Date', 'Year', 'Month', 'State',\n",
      "       'Condition Group', 'Condition', 'ICD10_codes', 'Age Group',\n",
      "       'COVID-19 Deaths', 'Number of Mentions', 'Flag'],\n",
      "      dtype='object')\n"
     ]
    }
   ],
   "source": [
    "print(df_covid_month.columns)"
   ]
  },
  {
   "cell_type": "markdown",
   "id": "926089d1",
   "metadata": {},
   "source": [
    "## 5. Addressing errors and Inconsistencies"
   ]
  },
  {
   "cell_type": "markdown",
   "id": "42229c1c",
   "metadata": {},
   "source": [
    "### Check the data for inconsistencies by reviewing the unique values of categorical columns and the basic statistics of numerical columns"
   ]
  },
  {
   "cell_type": "markdown",
   "id": "3a5153f6",
   "metadata": {},
   "source": [
    "### Unique value for categorical columns"
   ]
  },
  {
   "cell_type": "code",
   "execution_count": 35,
   "id": "9ffd8f91",
   "metadata": {},
   "outputs": [
    {
     "name": "stdout",
     "output_type": "stream",
     "text": [
      "\n",
      "Column: State\n",
      "Number of unique values: 54\n",
      "Unique values:\n",
      "  - United States\n",
      "  - Alabama\n",
      "  - Alaska\n",
      "  - Arizona\n",
      "  - Arkansas\n",
      "  - California\n",
      "  - Colorado\n",
      "  - Connecticut\n",
      "  - Delaware\n",
      "  - District of Columbia\n",
      "  - Florida\n",
      "  - Georgia\n",
      "  - Hawaii\n",
      "  - Idaho\n",
      "  - Illinois\n",
      "  - Indiana\n",
      "  - Iowa\n",
      "  - Kansas\n",
      "  - Kentucky\n",
      "  - Louisiana\n",
      "  - Maine\n",
      "  - Maryland\n",
      "  - Massachusetts\n",
      "  - Michigan\n",
      "  - Minnesota\n",
      "  - Mississippi\n",
      "  - Missouri\n",
      "  - Montana\n",
      "  - Nebraska\n",
      "  - Nevada\n",
      "  - New Hampshire\n",
      "  - New Jersey\n",
      "  - New Mexico\n",
      "  - New York\n",
      "  - New York City\n",
      "  - North Carolina\n",
      "  - North Dakota\n",
      "  - Ohio\n",
      "  - Oklahoma\n",
      "  - Oregon\n",
      "  - Pennsylvania\n",
      "  - Rhode Island\n",
      "  - South Carolina\n",
      "  - South Dakota\n",
      "  - Tennessee\n",
      "  - Texas\n",
      "  - Utah\n",
      "  - Vermont\n",
      "  - Virginia\n",
      "  - Washington\n",
      "  - West Virginia\n",
      "  - Wisconsin\n",
      "  - Wyoming\n",
      "  - Puerto Rico\n",
      "\n",
      "Column: Condition Group\n",
      "Number of unique values: 12\n",
      "Unique values:\n",
      "  - Respiratory diseases\n",
      "  - Circulatory diseases\n",
      "  - Sepsis\n",
      "  - Malignant neoplasms\n",
      "  - Diabetes\n",
      "  - Obesity\n",
      "  - Alzheimer disease\n",
      "  - Vascular and unspecified dementia\n",
      "  - Renal failure\n",
      "  - Intentional and unintentional injury, poisoning, and other adverse events\n",
      "  - All other conditions and causes (residual)\n",
      "  - COVID-19\n",
      "\n",
      "Column: Condition\n",
      "Number of unique values: 23\n",
      "Unique values:\n",
      "  - Influenza and pneumonia\n",
      "  - Chronic lower respiratory diseases\n",
      "  - Adult respiratory distress syndrome\n",
      "  - Respiratory failure\n",
      "  - Respiratory arrest\n",
      "  - Other diseases of the respiratory system\n",
      "  - Hypertensive diseases\n",
      "  - Ischemic heart disease\n",
      "  - Cardiac arrest\n",
      "  - Cardiac arrhythmia\n",
      "  - Heart failure\n",
      "  - Cerebrovascular diseases\n",
      "  - Other diseases of the circulatory system\n",
      "  - Sepsis\n",
      "  - Malignant neoplasms\n",
      "  - Diabetes\n",
      "  - Obesity\n",
      "  - Alzheimer disease\n",
      "  - Vascular and unspecified dementia\n",
      "  - Renal failure\n",
      "  - Intentional and unintentional injury, poisoning, and other adverse events\n",
      "  - All other conditions and causes (residual)\n",
      "  - COVID-19\n",
      "\n",
      "Column: ICD10_codes\n",
      "Number of unique values: 23\n",
      "Unique values:\n",
      "  - J09-J18\n",
      "  - J40-J47\n",
      "  - J80\n",
      "  - J96\n",
      "  - R09.2\n",
      "  - J00-J06, J20-J39, J60-J70, J81-J86, J90-J95, J97-J99, U04\n",
      "  - I10-I15\n",
      "  - I20-I25\n",
      "  - I46\n",
      "  - I44, I45, I47-I49\n",
      "  - I50\n",
      "  - I60-I69\n",
      "  - I00-I09, I26-I43, I51, I52, I70-I99\n",
      "  - A40-A41\n",
      "  - C00-C97\n",
      "  - E10-E14\n",
      "  - E65-E68\n",
      "  - G30\n",
      "  - F01, F03\n",
      "  - N17-N19\n",
      "  - S00-T98, V01-X59, X60-X84, X85-Y09, Y10-Y36, Y40-Y89, U01-U03\n",
      "  - A00-A39, A42-B99, D00-E07, E15-E64, E70-E90, F00, F02, F04-G26, G31-H95, K00-K93, L00-M99, N00-N16, N20-N98, O00-O99, P00-P96, Q00-Q99, R00-R08, R09.0, R09.1, R09.3, R09.8, R10-R99\n",
      "  - U071\n",
      "\n",
      "Column: Age Group\n",
      "Number of unique values: 10\n",
      "Unique values:\n",
      "  - 0-24\n",
      "  - 25-34\n",
      "  - 35-44\n",
      "  - 45-54\n",
      "  - 55-64\n",
      "  - 65-74\n",
      "  - 75-84\n",
      "  - 85+\n",
      "  - Not stated\n",
      "  - All Ages\n",
      "\n",
      "Column: Flag\n",
      "Number of unique values: 2\n",
      "Unique values:\n",
      "  - nan\n",
      "  - One or more data cells have counts between 1-9 and have been suppressed in accordance with NCHS confidentiality standards.\n"
     ]
    }
   ],
   "source": [
    "unique_covid = {col: df_covid_month[col].unique() for col in ['State', 'Condition Group', 'Condition', 'ICD10_codes', 'Age Group', 'Flag']}\n",
    "for col, values in unique_covid.items():\n",
    "    print(f\"\\nColumn: {col}\")\n",
    "    print(f\"Number of unique values: {len(values)}\")\n",
    "    print(\"Unique values:\")\n",
    "    for value in values:\n",
    "        print(f\"  - {value}\")"
   ]
  },
  {
   "cell_type": "markdown",
   "id": "68a1994b",
   "metadata": {},
   "source": [
    "### The state column will now be cleaned up by removing the aggregated rows under the 'United States' entry. New York City data is excluded from the New York State data, so NYC rows will be retained in the dataframe. Puerto Rico will be removed from the dataframe so that the analysis can focus on the US States. District of Columbia will kept in the dataframe fo now."
   ]
  },
  {
   "cell_type": "markdown",
   "id": "e101ac42",
   "metadata": {},
   "source": [
    "### Filter out rows Where state is 'United States', 'New York City', or 'Puerto Rico'"
   ]
  },
  {
   "cell_type": "code",
   "execution_count": 36,
   "id": "83d98bc2",
   "metadata": {},
   "outputs": [],
   "source": [
    "df_covid_states = df_covid_month[~df_covid_month['State'].isin(['United States', 'Puerto Rico'])]"
   ]
  },
  {
   "cell_type": "markdown",
   "id": "b7b61887",
   "metadata": {},
   "source": [
    "### The Age Group ' All Ages' represents aggregated datavand those rows will be removed consistent with the removal of other aggregated data rows in the dataframe."
   ]
  },
  {
   "cell_type": "markdown",
   "id": "754fb6ef",
   "metadata": {},
   "source": [
    "### Remove rows where Age Group is \"All Ages'"
   ]
  },
  {
   "cell_type": "code",
   "execution_count": 37,
   "id": "a610d6b2",
   "metadata": {},
   "outputs": [],
   "source": [
    "df_covid_cleaned = df_covid_states[df_covid_states['Age Group'] != 'All Ages']"
   ]
  },
  {
   "cell_type": "markdown",
   "id": "a67891f0",
   "metadata": {},
   "source": [
    "### The 'Not Stated' entry in the Age Group column shows that these rows always have zero COVID-19 Deaths and Zero Number Of Mentions. Given that rows with Age Group of 'Not Stated' have no associated deaths or mentions, these rows do not contribute meaningful information to the analysis and will be removed."
   ]
  },
  {
   "cell_type": "markdown",
   "id": "8e0411b9",
   "metadata": {},
   "source": [
    "### Remove rows where Age Group is 'Not Stated'"
   ]
  },
  {
   "cell_type": "code",
   "execution_count": 38,
   "id": "7ccc8ced",
   "metadata": {},
   "outputs": [],
   "source": [
    "df_covid_final_cleaned = df_covid_cleaned[df_covid_cleaned['Age Group'] != 'Not stated']"
   ]
  },
  {
   "cell_type": "markdown",
   "id": "59d6986c",
   "metadata": {},
   "source": [
    "### Recheck the unique values for categorical columns"
   ]
  },
  {
   "cell_type": "code",
   "execution_count": 39,
   "id": "472575e9",
   "metadata": {},
   "outputs": [
    {
     "name": "stdout",
     "output_type": "stream",
     "text": [
      "\n",
      "Column: State\n",
      "Number of unique values: 52\n",
      "Unique values:\n",
      "  - Alabama\n",
      "  - Alaska\n",
      "  - Arizona\n",
      "  - Arkansas\n",
      "  - California\n",
      "  - Colorado\n",
      "  - Connecticut\n",
      "  - Delaware\n",
      "  - District of Columbia\n",
      "  - Florida\n",
      "  - Georgia\n",
      "  - Hawaii\n",
      "  - Idaho\n",
      "  - Illinois\n",
      "  - Indiana\n",
      "  - Iowa\n",
      "  - Kansas\n",
      "  - Kentucky\n",
      "  - Louisiana\n",
      "  - Maine\n",
      "  - Maryland\n",
      "  - Massachusetts\n",
      "  - Michigan\n",
      "  - Minnesota\n",
      "  - Mississippi\n",
      "  - Missouri\n",
      "  - Montana\n",
      "  - Nebraska\n",
      "  - Nevada\n",
      "  - New Hampshire\n",
      "  - New Jersey\n",
      "  - New Mexico\n",
      "  - New York\n",
      "  - New York City\n",
      "  - North Carolina\n",
      "  - North Dakota\n",
      "  - Ohio\n",
      "  - Oklahoma\n",
      "  - Oregon\n",
      "  - Pennsylvania\n",
      "  - Rhode Island\n",
      "  - South Carolina\n",
      "  - South Dakota\n",
      "  - Tennessee\n",
      "  - Texas\n",
      "  - Utah\n",
      "  - Vermont\n",
      "  - Virginia\n",
      "  - Washington\n",
      "  - West Virginia\n",
      "  - Wisconsin\n",
      "  - Wyoming\n",
      "\n",
      "Column: Condition Group\n",
      "Number of unique values: 12\n",
      "Unique values:\n",
      "  - Respiratory diseases\n",
      "  - Circulatory diseases\n",
      "  - Sepsis\n",
      "  - Malignant neoplasms\n",
      "  - Diabetes\n",
      "  - Obesity\n",
      "  - Alzheimer disease\n",
      "  - Vascular and unspecified dementia\n",
      "  - Renal failure\n",
      "  - Intentional and unintentional injury, poisoning, and other adverse events\n",
      "  - All other conditions and causes (residual)\n",
      "  - COVID-19\n",
      "\n",
      "Column: Condition\n",
      "Number of unique values: 23\n",
      "Unique values:\n",
      "  - Influenza and pneumonia\n",
      "  - Chronic lower respiratory diseases\n",
      "  - Adult respiratory distress syndrome\n",
      "  - Respiratory failure\n",
      "  - Respiratory arrest\n",
      "  - Other diseases of the respiratory system\n",
      "  - Hypertensive diseases\n",
      "  - Ischemic heart disease\n",
      "  - Cardiac arrest\n",
      "  - Cardiac arrhythmia\n",
      "  - Heart failure\n",
      "  - Cerebrovascular diseases\n",
      "  - Other diseases of the circulatory system\n",
      "  - Sepsis\n",
      "  - Malignant neoplasms\n",
      "  - Diabetes\n",
      "  - Obesity\n",
      "  - Alzheimer disease\n",
      "  - Vascular and unspecified dementia\n",
      "  - Renal failure\n",
      "  - Intentional and unintentional injury, poisoning, and other adverse events\n",
      "  - All other conditions and causes (residual)\n",
      "  - COVID-19\n",
      "\n",
      "Column: ICD10_codes\n",
      "Number of unique values: 23\n",
      "Unique values:\n",
      "  - J09-J18\n",
      "  - J40-J47\n",
      "  - J80\n",
      "  - J96\n",
      "  - R09.2\n",
      "  - J00-J06, J20-J39, J60-J70, J81-J86, J90-J95, J97-J99, U04\n",
      "  - I10-I15\n",
      "  - I20-I25\n",
      "  - I46\n",
      "  - I44, I45, I47-I49\n",
      "  - I50\n",
      "  - I60-I69\n",
      "  - I00-I09, I26-I43, I51, I52, I70-I99\n",
      "  - A40-A41\n",
      "  - C00-C97\n",
      "  - E10-E14\n",
      "  - E65-E68\n",
      "  - G30\n",
      "  - F01, F03\n",
      "  - N17-N19\n",
      "  - S00-T98, V01-X59, X60-X84, X85-Y09, Y10-Y36, Y40-Y89, U01-U03\n",
      "  - A00-A39, A42-B99, D00-E07, E15-E64, E70-E90, F00, F02, F04-G26, G31-H95, K00-K93, L00-M99, N00-N16, N20-N98, O00-O99, P00-P96, Q00-Q99, R00-R08, R09.0, R09.1, R09.3, R09.8, R10-R99\n",
      "  - U071\n",
      "\n",
      "Column: Age Group\n",
      "Number of unique values: 8\n",
      "Unique values:\n",
      "  - 0-24\n",
      "  - 25-34\n",
      "  - 35-44\n",
      "  - 45-54\n",
      "  - 55-64\n",
      "  - 65-74\n",
      "  - 75-84\n",
      "  - 85+\n",
      "\n",
      "Column: Flag\n",
      "Number of unique values: 2\n",
      "Unique values:\n",
      "  - nan\n",
      "  - One or more data cells have counts between 1-9 and have been suppressed in accordance with NCHS confidentiality standards.\n"
     ]
    }
   ],
   "source": [
    "unique_covid_cleaned = {col: df_covid_final_cleaned[col].unique() for col in ['State', 'Condition Group', 'Condition', 'ICD10_codes', 'Age Group', 'Flag']}\n",
    "for col, values in unique_covid_cleaned.items():\n",
    "    print(f\"\\nColumn: {col}\")\n",
    "    print(f\"Number of unique values: {len(values)}\")\n",
    "    print(\"Unique values:\")\n",
    "    for value in values:\n",
    "        print(f\"  - {value}\")"
   ]
  },
  {
   "cell_type": "markdown",
   "id": "53e05b42",
   "metadata": {},
   "source": [
    "### Moving on now to checking statistics of the numerical columns"
   ]
  },
  {
   "cell_type": "markdown",
   "id": "6badf264",
   "metadata": {},
   "source": [
    "### Statistical summaries for numerical columns"
   ]
  },
  {
   "cell_type": "code",
   "execution_count": 40,
   "id": "c0acbb15",
   "metadata": {},
   "outputs": [
    {
     "data": {
      "text/html": [
       "<div>\n",
       "<style scoped>\n",
       "    .dataframe tbody tr th:only-of-type {\n",
       "        vertical-align: middle;\n",
       "    }\n",
       "\n",
       "    .dataframe tbody tr th {\n",
       "        vertical-align: top;\n",
       "    }\n",
       "\n",
       "    .dataframe thead th {\n",
       "        text-align: right;\n",
       "    }\n",
       "</style>\n",
       "<table border=\"1\" class=\"dataframe\">\n",
       "  <thead>\n",
       "    <tr style=\"text-align: right;\">\n",
       "      <th></th>\n",
       "      <th>Year</th>\n",
       "      <th>Month</th>\n",
       "      <th>COVID-19 Deaths</th>\n",
       "      <th>Number of Mentions</th>\n",
       "    </tr>\n",
       "  </thead>\n",
       "  <tbody>\n",
       "    <tr>\n",
       "      <th>count</th>\n",
       "      <td>430560.000000</td>\n",
       "      <td>430560.000000</td>\n",
       "      <td>430560.000000</td>\n",
       "      <td>430560.000000</td>\n",
       "    </tr>\n",
       "    <tr>\n",
       "      <th>mean</th>\n",
       "      <td>2021.400000</td>\n",
       "      <td>6.200000</td>\n",
       "      <td>10.910452</td>\n",
       "      <td>11.777376</td>\n",
       "    </tr>\n",
       "    <tr>\n",
       "      <th>std</th>\n",
       "      <td>1.083206</td>\n",
       "      <td>3.350626</td>\n",
       "      <td>53.958623</td>\n",
       "      <td>57.090917</td>\n",
       "    </tr>\n",
       "    <tr>\n",
       "      <th>min</th>\n",
       "      <td>2020.000000</td>\n",
       "      <td>1.000000</td>\n",
       "      <td>0.000000</td>\n",
       "      <td>0.000000</td>\n",
       "    </tr>\n",
       "    <tr>\n",
       "      <th>25%</th>\n",
       "      <td>2020.000000</td>\n",
       "      <td>3.000000</td>\n",
       "      <td>0.000000</td>\n",
       "      <td>0.000000</td>\n",
       "    </tr>\n",
       "    <tr>\n",
       "      <th>50%</th>\n",
       "      <td>2021.000000</td>\n",
       "      <td>6.000000</td>\n",
       "      <td>1.000000</td>\n",
       "      <td>1.000000</td>\n",
       "    </tr>\n",
       "    <tr>\n",
       "      <th>75%</th>\n",
       "      <td>2022.000000</td>\n",
       "      <td>9.000000</td>\n",
       "      <td>7.000000</td>\n",
       "      <td>8.000000</td>\n",
       "    </tr>\n",
       "    <tr>\n",
       "      <th>max</th>\n",
       "      <td>2023.000000</td>\n",
       "      <td>12.000000</td>\n",
       "      <td>5094.000000</td>\n",
       "      <td>5094.000000</td>\n",
       "    </tr>\n",
       "  </tbody>\n",
       "</table>\n",
       "</div>"
      ],
      "text/plain": [
       "                Year          Month  COVID-19 Deaths  Number of Mentions\n",
       "count  430560.000000  430560.000000    430560.000000       430560.000000\n",
       "mean     2021.400000       6.200000        10.910452           11.777376\n",
       "std         1.083206       3.350626        53.958623           57.090917\n",
       "min      2020.000000       1.000000         0.000000            0.000000\n",
       "25%      2020.000000       3.000000         0.000000            0.000000\n",
       "50%      2021.000000       6.000000         1.000000            1.000000\n",
       "75%      2022.000000       9.000000         7.000000            8.000000\n",
       "max      2023.000000      12.000000      5094.000000         5094.000000"
      ]
     },
     "execution_count": 40,
     "metadata": {},
     "output_type": "execute_result"
    }
   ],
   "source": [
    "df_covid_final_cleaned[['Year', 'Month', 'COVID-19 Deaths', 'Number of Mentions']].describe()"
   ]
  },
  {
   "cell_type": "markdown",
   "id": "868d8336",
   "metadata": {},
   "source": [
    "### Distribution plots for numerical columns"
   ]
  },
  {
   "cell_type": "code",
   "execution_count": 41,
   "id": "4ae7c6fe",
   "metadata": {},
   "outputs": [
    {
     "name": "stderr",
     "output_type": "stream",
     "text": [
      "C:\\Users\\tjsra\\anaconda3\\Lib\\site-packages\\seaborn\\_oldcore.py:1119: FutureWarning: use_inf_as_na option is deprecated and will be removed in a future version. Convert inf values to NaN before operating instead.\n",
      "  with pd.option_context('mode.use_inf_as_na', True):\n"
     ]
    },
    {
     "data": {
      "image/png": "[encoded data removed]",
      "text/plain": [
       "<Figure size 1000x600 with 1 Axes>"
      ]
     },
     "metadata": {},
     "output_type": "display_data"
    },
    {
     "name": "stderr",
     "output_type": "stream",
     "text": [
      "C:\\Users\\tjsra\\anaconda3\\Lib\\site-packages\\seaborn\\_oldcore.py:1119: FutureWarning: use_inf_as_na option is deprecated and will be removed in a future version. Convert inf values to NaN before operating instead.\n",
      "  with pd.option_context('mode.use_inf_as_na', True):\n"
     ]
    },
    {
     "data": {
      "image/png": "[encoded data removed]",
      "text/plain": [
       "<Figure size 1000x600 with 1 Axes>"
      ]
     },
     "metadata": {},
     "output_type": "display_data"
    },
    {
     "name": "stderr",
     "output_type": "stream",
     "text": [
      "C:\\Users\\tjsra\\anaconda3\\Lib\\site-packages\\seaborn\\_oldcore.py:1119: FutureWarning: use_inf_as_na option is deprecated and will be removed in a future version. Convert inf values to NaN before operating instead.\n",
      "  with pd.option_context('mode.use_inf_as_na', True):\n"
     ]
    },
    {
     "data": {
      "image/png": "[encoded data removed]",
      "text/plain": [
       "<Figure size 1000x600 with 1 Axes>"
      ]
     },
     "metadata": {},
     "output_type": "display_data"
    },
    {
     "name": "stderr",
     "output_type": "stream",
     "text": [
      "C:\\Users\\tjsra\\anaconda3\\Lib\\site-packages\\seaborn\\_oldcore.py:1119: FutureWarning: use_inf_as_na option is deprecated and will be removed in a future version. Convert inf values to NaN before operating instead.\n",
      "  with pd.option_context('mode.use_inf_as_na', True):\n"
     ]
    },
    {
     "data": {
      "image/png": "[encoded data removed]",
      "text/plain": [
       "<Figure size 1000x600 with 1 Axes>"
      ]
     },
     "metadata": {},
     "output_type": "display_data"
    }
   ],
   "source": [
    "numerical_columns = ['Year', 'Month', 'COVID-19 Deaths', 'Number of Mentions']\n",
    "for col in numerical_columns:\n",
    "    plt.figure(figsize=(10, 6))\n",
    "    sns.histplot(df_covid_final_cleaned[col], bins=50, kde=True)\n",
    "    plt.title(f'Distribution of {col}')\n",
    "    plt.xlabel(col)\n",
    "    plt.ylabel('Frequency')\n",
    "    plt.show()\n"
   ]
  },
  {
   "cell_type": "markdown",
   "id": "3d405c86",
   "metadata": {},
   "source": [
    "### Summary Statistics: Year and Month- Data spans from 2020 to 2023. All months from January(1) to December(12) are represented except in 2023 where data collection ended in september(9).  COVID-19 Deaths and Number of Mentions- Mean values are relatively low compared to the maximum values. Both columns have a high standard deviation, indicating significant variability. The median value for both column is 1, indicating that at least half of the entries have non-Zero values. \n",
    "### Visual Inspection: Year and Month- Data appears as expected across all years and months, with lower frequencies in the last few months of 2023 due to the cessation of datacollection.\n",
    "### COVID-19 Deaths and Number of Mentions: Highly skewed distributions towards zero."
   ]
  },
  {
   "cell_type": "markdown",
   "id": "0989569c",
   "metadata": {},
   "source": [
    "## 6. Checking the outliers"
   ]
  },
  {
   "cell_type": "markdown",
   "id": "554d6f73",
   "metadata": {},
   "source": [
    "### Check all numerical columns for outliers according to the IQR method."
   ]
  },
  {
   "cell_type": "code",
   "execution_count": 42,
   "id": "5bd8f031",
   "metadata": {},
   "outputs": [],
   "source": [
    "def find_column_outliers_IQR(df, column):\n",
    "    # Calculate Q1, Q3 and IQR\n",
    "    Q1 = df[column].quantile(0.25)\n",
    "    Q3 = df[column].quantile(0.75)\n",
    "    IQR = Q3 - Q1\n",
    "    \n",
    "    # Define bounds for outliers\n",
    "    lower_bound = Q1 - 1.5 * IQR\n",
    "    upper_bound = Q3 + 1.5 * IQR\n",
    "    \n",
    "    # Find indices of outliers\n",
    "    outlier_indices = df[(df[column] < lower_bound) | (df[column] > upper_bound)].index\n",
    "    \n",
    "    return df.loc[outlier_indices]"
   ]
  },
  {
   "cell_type": "markdown",
   "id": "0c68d272",
   "metadata": {},
   "source": [
    "### The function can now be used to check for outliers in the numerical variables"
   ]
  },
  {
   "cell_type": "markdown",
   "id": "247b705b",
   "metadata": {},
   "source": [
    "### Check for outliers in year"
   ]
  },
  {
   "cell_type": "code",
   "execution_count": 43,
   "id": "155eda86",
   "metadata": {},
   "outputs": [
    {
     "data": {
      "text/html": [
       "<div>\n",
       "<style scoped>\n",
       "    .dataframe tbody tr th:only-of-type {\n",
       "        vertical-align: middle;\n",
       "    }\n",
       "\n",
       "    .dataframe tbody tr th {\n",
       "        vertical-align: top;\n",
       "    }\n",
       "\n",
       "    .dataframe thead th {\n",
       "        text-align: right;\n",
       "    }\n",
       "</style>\n",
       "<table border=\"1\" class=\"dataframe\">\n",
       "  <thead>\n",
       "    <tr style=\"text-align: right;\">\n",
       "      <th></th>\n",
       "      <th>Data As Of</th>\n",
       "      <th>Start Date</th>\n",
       "      <th>End Date</th>\n",
       "      <th>Year</th>\n",
       "      <th>Month</th>\n",
       "      <th>State</th>\n",
       "      <th>Condition Group</th>\n",
       "      <th>Condition</th>\n",
       "      <th>ICD10_codes</th>\n",
       "      <th>Age Group</th>\n",
       "      <th>COVID-19 Deaths</th>\n",
       "      <th>Number of Mentions</th>\n",
       "      <th>Flag</th>\n",
       "    </tr>\n",
       "  </thead>\n",
       "  <tbody>\n",
       "  </tbody>\n",
       "</table>\n",
       "</div>"
      ],
      "text/plain": [
       "Empty DataFrame\n",
       "Columns: [Data As Of, Start Date, End Date, Year, Month, State, Condition Group, Condition, ICD10_codes, Age Group, COVID-19 Deaths, Number of Mentions, Flag]\n",
       "Index: []"
      ]
     },
     "execution_count": 43,
     "metadata": {},
     "output_type": "execute_result"
    }
   ],
   "source": [
    "year_outliers = find_column_outliers_IQR(df_covid_final_cleaned, 'Year')\n",
    "year_outliers"
   ]
  },
  {
   "cell_type": "markdown",
   "id": "e4325551",
   "metadata": {},
   "source": [
    "### No outliers found in the 'Year' column"
   ]
  },
  {
   "cell_type": "markdown",
   "id": "26e4ae09",
   "metadata": {},
   "source": [
    "### Check for the outliers in the 'Month' column"
   ]
  },
  {
   "cell_type": "code",
   "execution_count": 44,
   "id": "849e3806",
   "metadata": {},
   "outputs": [
    {
     "data": {
      "text/html": [
       "<div>\n",
       "<style scoped>\n",
       "    .dataframe tbody tr th:only-of-type {\n",
       "        vertical-align: middle;\n",
       "    }\n",
       "\n",
       "    .dataframe tbody tr th {\n",
       "        vertical-align: top;\n",
       "    }\n",
       "\n",
       "    .dataframe thead th {\n",
       "        text-align: right;\n",
       "    }\n",
       "</style>\n",
       "<table border=\"1\" class=\"dataframe\">\n",
       "  <thead>\n",
       "    <tr style=\"text-align: right;\">\n",
       "      <th></th>\n",
       "      <th>Data As Of</th>\n",
       "      <th>Start Date</th>\n",
       "      <th>End Date</th>\n",
       "      <th>Year</th>\n",
       "      <th>Month</th>\n",
       "      <th>State</th>\n",
       "      <th>Condition Group</th>\n",
       "      <th>Condition</th>\n",
       "      <th>ICD10_codes</th>\n",
       "      <th>Age Group</th>\n",
       "      <th>COVID-19 Deaths</th>\n",
       "      <th>Number of Mentions</th>\n",
       "      <th>Flag</th>\n",
       "    </tr>\n",
       "  </thead>\n",
       "  <tbody>\n",
       "  </tbody>\n",
       "</table>\n",
       "</div>"
      ],
      "text/plain": [
       "Empty DataFrame\n",
       "Columns: [Data As Of, Start Date, End Date, Year, Month, State, Condition Group, Condition, ICD10_codes, Age Group, COVID-19 Deaths, Number of Mentions, Flag]\n",
       "Index: []"
      ]
     },
     "execution_count": 44,
     "metadata": {},
     "output_type": "execute_result"
    }
   ],
   "source": [
    "month_outliers = find_column_outliers_IQR(df_covid_final_cleaned, 'Month')\n",
    "month_outliers"
   ]
  },
  {
   "cell_type": "markdown",
   "id": "e73e67f9",
   "metadata": {},
   "source": [
    "### NO outliers are found in the 'Month' column"
   ]
  },
  {
   "cell_type": "markdown",
   "id": "180e59e1",
   "metadata": {},
   "source": [
    "### Check for outliers in 'Covid-19 Deaths'"
   ]
  },
  {
   "cell_type": "code",
   "execution_count": 45,
   "id": "208e41ac",
   "metadata": {},
   "outputs": [
    {
     "data": {
      "text/html": [
       "<div>\n",
       "<style scoped>\n",
       "    .dataframe tbody tr th:only-of-type {\n",
       "        vertical-align: middle;\n",
       "    }\n",
       "\n",
       "    .dataframe tbody tr th {\n",
       "        vertical-align: top;\n",
       "    }\n",
       "\n",
       "    .dataframe thead th {\n",
       "        text-align: right;\n",
       "    }\n",
       "</style>\n",
       "<table border=\"1\" class=\"dataframe\">\n",
       "  <thead>\n",
       "    <tr style=\"text-align: right;\">\n",
       "      <th></th>\n",
       "      <th>Data As Of</th>\n",
       "      <th>Start Date</th>\n",
       "      <th>End Date</th>\n",
       "      <th>Year</th>\n",
       "      <th>Month</th>\n",
       "      <th>State</th>\n",
       "      <th>Condition Group</th>\n",
       "      <th>Condition</th>\n",
       "      <th>ICD10_codes</th>\n",
       "      <th>Age Group</th>\n",
       "      <th>COVID-19 Deaths</th>\n",
       "      <th>Number of Mentions</th>\n",
       "      <th>Flag</th>\n",
       "    </tr>\n",
       "  </thead>\n",
       "  <tbody>\n",
       "    <tr>\n",
       "      <th>72514</th>\n",
       "      <td>2023-09-24</td>\n",
       "      <td>2021-08-01</td>\n",
       "      <td>2021-08-31</td>\n",
       "      <td>2021.0</td>\n",
       "      <td>8.0</td>\n",
       "      <td>Alabama</td>\n",
       "      <td>Respiratory diseases</td>\n",
       "      <td>Influenza and pneumonia</td>\n",
       "      <td>J09-J18</td>\n",
       "      <td>25-34</td>\n",
       "      <td>30.0</td>\n",
       "      <td>31.0</td>\n",
       "      <td>NaN</td>\n",
       "    </tr>\n",
       "    <tr>\n",
       "      <th>72552</th>\n",
       "      <td>2023-09-24</td>\n",
       "      <td>2021-01-01</td>\n",
       "      <td>2021-01-31</td>\n",
       "      <td>2021.0</td>\n",
       "      <td>1.0</td>\n",
       "      <td>Alabama</td>\n",
       "      <td>Respiratory diseases</td>\n",
       "      <td>Influenza and pneumonia</td>\n",
       "      <td>J09-J18</td>\n",
       "      <td>35-44</td>\n",
       "      <td>18.0</td>\n",
       "      <td>18.0</td>\n",
       "      <td>NaN</td>\n",
       "    </tr>\n",
       "    <tr>\n",
       "      <th>72559</th>\n",
       "      <td>2023-09-24</td>\n",
       "      <td>2021-08-01</td>\n",
       "      <td>2021-08-31</td>\n",
       "      <td>2021.0</td>\n",
       "      <td>8.0</td>\n",
       "      <td>Alabama</td>\n",
       "      <td>Respiratory diseases</td>\n",
       "      <td>Influenza and pneumonia</td>\n",
       "      <td>J09-J18</td>\n",
       "      <td>35-44</td>\n",
       "      <td>50.0</td>\n",
       "      <td>50.0</td>\n",
       "      <td>NaN</td>\n",
       "    </tr>\n",
       "    <tr>\n",
       "      <th>72560</th>\n",
       "      <td>2023-09-24</td>\n",
       "      <td>2021-09-01</td>\n",
       "      <td>2021-09-30</td>\n",
       "      <td>2021.0</td>\n",
       "      <td>9.0</td>\n",
       "      <td>Alabama</td>\n",
       "      <td>Respiratory diseases</td>\n",
       "      <td>Influenza and pneumonia</td>\n",
       "      <td>J09-J18</td>\n",
       "      <td>35-44</td>\n",
       "      <td>53.0</td>\n",
       "      <td>56.0</td>\n",
       "      <td>NaN</td>\n",
       "    </tr>\n",
       "    <tr>\n",
       "      <th>72561</th>\n",
       "      <td>2023-09-24</td>\n",
       "      <td>2021-10-01</td>\n",
       "      <td>2021-10-31</td>\n",
       "      <td>2021.0</td>\n",
       "      <td>10.0</td>\n",
       "      <td>Alabama</td>\n",
       "      <td>Respiratory diseases</td>\n",
       "      <td>Influenza and pneumonia</td>\n",
       "      <td>J09-J18</td>\n",
       "      <td>35-44</td>\n",
       "      <td>23.0</td>\n",
       "      <td>26.0</td>\n",
       "      <td>NaN</td>\n",
       "    </tr>\n",
       "    <tr>\n",
       "      <th>...</th>\n",
       "      <td>...</td>\n",
       "      <td>...</td>\n",
       "      <td>...</td>\n",
       "      <td>...</td>\n",
       "      <td>...</td>\n",
       "      <td>...</td>\n",
       "      <td>...</td>\n",
       "      <td>...</td>\n",
       "      <td>...</td>\n",
       "      <td>...</td>\n",
       "      <td>...</td>\n",
       "      <td>...</td>\n",
       "      <td>...</td>\n",
       "    </tr>\n",
       "    <tr>\n",
       "      <th>610534</th>\n",
       "      <td>2023-09-24</td>\n",
       "      <td>2021-08-01</td>\n",
       "      <td>2021-08-31</td>\n",
       "      <td>2021.0</td>\n",
       "      <td>8.0</td>\n",
       "      <td>Wyoming</td>\n",
       "      <td>COVID-19</td>\n",
       "      <td>COVID-19</td>\n",
       "      <td>U071</td>\n",
       "      <td>85+</td>\n",
       "      <td>20.0</td>\n",
       "      <td>20.0</td>\n",
       "      <td>NaN</td>\n",
       "    </tr>\n",
       "    <tr>\n",
       "      <th>610535</th>\n",
       "      <td>2023-09-24</td>\n",
       "      <td>2021-09-01</td>\n",
       "      <td>2021-09-30</td>\n",
       "      <td>2021.0</td>\n",
       "      <td>9.0</td>\n",
       "      <td>Wyoming</td>\n",
       "      <td>COVID-19</td>\n",
       "      <td>COVID-19</td>\n",
       "      <td>U071</td>\n",
       "      <td>85+</td>\n",
       "      <td>32.0</td>\n",
       "      <td>32.0</td>\n",
       "      <td>NaN</td>\n",
       "    </tr>\n",
       "    <tr>\n",
       "      <th>610536</th>\n",
       "      <td>2023-09-24</td>\n",
       "      <td>2021-10-01</td>\n",
       "      <td>2021-10-31</td>\n",
       "      <td>2021.0</td>\n",
       "      <td>10.0</td>\n",
       "      <td>Wyoming</td>\n",
       "      <td>COVID-19</td>\n",
       "      <td>COVID-19</td>\n",
       "      <td>U071</td>\n",
       "      <td>85+</td>\n",
       "      <td>47.0</td>\n",
       "      <td>47.0</td>\n",
       "      <td>NaN</td>\n",
       "    </tr>\n",
       "    <tr>\n",
       "      <th>610537</th>\n",
       "      <td>2023-09-24</td>\n",
       "      <td>2021-11-01</td>\n",
       "      <td>2021-11-30</td>\n",
       "      <td>2021.0</td>\n",
       "      <td>11.0</td>\n",
       "      <td>Wyoming</td>\n",
       "      <td>COVID-19</td>\n",
       "      <td>COVID-19</td>\n",
       "      <td>U071</td>\n",
       "      <td>85+</td>\n",
       "      <td>28.0</td>\n",
       "      <td>28.0</td>\n",
       "      <td>NaN</td>\n",
       "    </tr>\n",
       "    <tr>\n",
       "      <th>610540</th>\n",
       "      <td>2023-09-24</td>\n",
       "      <td>2022-02-01</td>\n",
       "      <td>2022-02-28</td>\n",
       "      <td>2022.0</td>\n",
       "      <td>2.0</td>\n",
       "      <td>Wyoming</td>\n",
       "      <td>COVID-19</td>\n",
       "      <td>COVID-19</td>\n",
       "      <td>U071</td>\n",
       "      <td>85+</td>\n",
       "      <td>27.0</td>\n",
       "      <td>27.0</td>\n",
       "      <td>NaN</td>\n",
       "    </tr>\n",
       "  </tbody>\n",
       "</table>\n",
       "<p>45666 rows × 13 columns</p>\n",
       "</div>"
      ],
      "text/plain": [
       "       Data As Of Start Date   End Date    Year  Month    State  \\\n",
       "72514  2023-09-24 2021-08-01 2021-08-31  2021.0    8.0  Alabama   \n",
       "72552  2023-09-24 2021-01-01 2021-01-31  2021.0    1.0  Alabama   \n",
       "72559  2023-09-24 2021-08-01 2021-08-31  2021.0    8.0  Alabama   \n",
       "72560  2023-09-24 2021-09-01 2021-09-30  2021.0    9.0  Alabama   \n",
       "72561  2023-09-24 2021-10-01 2021-10-31  2021.0   10.0  Alabama   \n",
       "...           ...        ...        ...     ...    ...      ...   \n",
       "610534 2023-09-24 2021-08-01 2021-08-31  2021.0    8.0  Wyoming   \n",
       "610535 2023-09-24 2021-09-01 2021-09-30  2021.0    9.0  Wyoming   \n",
       "610536 2023-09-24 2021-10-01 2021-10-31  2021.0   10.0  Wyoming   \n",
       "610537 2023-09-24 2021-11-01 2021-11-30  2021.0   11.0  Wyoming   \n",
       "610540 2023-09-24 2022-02-01 2022-02-28  2022.0    2.0  Wyoming   \n",
       "\n",
       "             Condition Group                Condition ICD10_codes Age Group  \\\n",
       "72514   Respiratory diseases  Influenza and pneumonia     J09-J18     25-34   \n",
       "72552   Respiratory diseases  Influenza and pneumonia     J09-J18     35-44   \n",
       "72559   Respiratory diseases  Influenza and pneumonia     J09-J18     35-44   \n",
       "72560   Respiratory diseases  Influenza and pneumonia     J09-J18     35-44   \n",
       "72561   Respiratory diseases  Influenza and pneumonia     J09-J18     35-44   \n",
       "...                      ...                      ...         ...       ...   \n",
       "610534              COVID-19                 COVID-19        U071       85+   \n",
       "610535              COVID-19                 COVID-19        U071       85+   \n",
       "610536              COVID-19                 COVID-19        U071       85+   \n",
       "610537              COVID-19                 COVID-19        U071       85+   \n",
       "610540              COVID-19                 COVID-19        U071       85+   \n",
       "\n",
       "        COVID-19 Deaths  Number of Mentions Flag  \n",
       "72514              30.0                31.0  NaN  \n",
       "72552              18.0                18.0  NaN  \n",
       "72559              50.0                50.0  NaN  \n",
       "72560              53.0                56.0  NaN  \n",
       "72561              23.0                26.0  NaN  \n",
       "...                 ...                 ...  ...  \n",
       "610534             20.0                20.0  NaN  \n",
       "610535             32.0                32.0  NaN  \n",
       "610536             47.0                47.0  NaN  \n",
       "610537             28.0                28.0  NaN  \n",
       "610540             27.0                27.0  NaN  \n",
       "\n",
       "[45666 rows x 13 columns]"
      ]
     },
     "execution_count": 45,
     "metadata": {},
     "output_type": "execute_result"
    }
   ],
   "source": [
    "covid_deaths_outliers = find_column_outliers_IQR(df_covid_final_cleaned, 'COVID-19 Deaths')\n",
    "covid_deaths_outliers"
   ]
  },
  {
   "cell_type": "markdown",
   "id": "a5cd2823",
   "metadata": {},
   "source": [
    "### A significant number of outliers are identified, because of the high number of Zeros in the data. However, the values appear reasonable in context and should be retained in the dataframe."
   ]
  },
  {
   "cell_type": "markdown",
   "id": "a2e454ec",
   "metadata": {},
   "source": [
    "### Check for the outliers in 'Number of Mentions'"
   ]
  },
  {
   "cell_type": "code",
   "execution_count": 46,
   "id": "4e611b69",
   "metadata": {},
   "outputs": [
    {
     "data": {
      "text/html": [
       "<div>\n",
       "<style scoped>\n",
       "    .dataframe tbody tr th:only-of-type {\n",
       "        vertical-align: middle;\n",
       "    }\n",
       "\n",
       "    .dataframe tbody tr th {\n",
       "        vertical-align: top;\n",
       "    }\n",
       "\n",
       "    .dataframe thead th {\n",
       "        text-align: right;\n",
       "    }\n",
       "</style>\n",
       "<table border=\"1\" class=\"dataframe\">\n",
       "  <thead>\n",
       "    <tr style=\"text-align: right;\">\n",
       "      <th></th>\n",
       "      <th>Data As Of</th>\n",
       "      <th>Start Date</th>\n",
       "      <th>End Date</th>\n",
       "      <th>Year</th>\n",
       "      <th>Month</th>\n",
       "      <th>State</th>\n",
       "      <th>Condition Group</th>\n",
       "      <th>Condition</th>\n",
       "      <th>ICD10_codes</th>\n",
       "      <th>Age Group</th>\n",
       "      <th>COVID-19 Deaths</th>\n",
       "      <th>Number of Mentions</th>\n",
       "      <th>Flag</th>\n",
       "    </tr>\n",
       "  </thead>\n",
       "  <tbody>\n",
       "    <tr>\n",
       "      <th>72514</th>\n",
       "      <td>2023-09-24</td>\n",
       "      <td>2021-08-01</td>\n",
       "      <td>2021-08-31</td>\n",
       "      <td>2021.0</td>\n",
       "      <td>8.0</td>\n",
       "      <td>Alabama</td>\n",
       "      <td>Respiratory diseases</td>\n",
       "      <td>Influenza and pneumonia</td>\n",
       "      <td>J09-J18</td>\n",
       "      <td>25-34</td>\n",
       "      <td>30.0</td>\n",
       "      <td>31.0</td>\n",
       "      <td>NaN</td>\n",
       "    </tr>\n",
       "    <tr>\n",
       "      <th>72559</th>\n",
       "      <td>2023-09-24</td>\n",
       "      <td>2021-08-01</td>\n",
       "      <td>2021-08-31</td>\n",
       "      <td>2021.0</td>\n",
       "      <td>8.0</td>\n",
       "      <td>Alabama</td>\n",
       "      <td>Respiratory diseases</td>\n",
       "      <td>Influenza and pneumonia</td>\n",
       "      <td>J09-J18</td>\n",
       "      <td>35-44</td>\n",
       "      <td>50.0</td>\n",
       "      <td>50.0</td>\n",
       "      <td>NaN</td>\n",
       "    </tr>\n",
       "    <tr>\n",
       "      <th>72560</th>\n",
       "      <td>2023-09-24</td>\n",
       "      <td>2021-09-01</td>\n",
       "      <td>2021-09-30</td>\n",
       "      <td>2021.0</td>\n",
       "      <td>9.0</td>\n",
       "      <td>Alabama</td>\n",
       "      <td>Respiratory diseases</td>\n",
       "      <td>Influenza and pneumonia</td>\n",
       "      <td>J09-J18</td>\n",
       "      <td>35-44</td>\n",
       "      <td>53.0</td>\n",
       "      <td>56.0</td>\n",
       "      <td>NaN</td>\n",
       "    </tr>\n",
       "    <tr>\n",
       "      <th>72561</th>\n",
       "      <td>2023-09-24</td>\n",
       "      <td>2021-10-01</td>\n",
       "      <td>2021-10-31</td>\n",
       "      <td>2021.0</td>\n",
       "      <td>10.0</td>\n",
       "      <td>Alabama</td>\n",
       "      <td>Respiratory diseases</td>\n",
       "      <td>Influenza and pneumonia</td>\n",
       "      <td>J09-J18</td>\n",
       "      <td>35-44</td>\n",
       "      <td>23.0</td>\n",
       "      <td>26.0</td>\n",
       "      <td>NaN</td>\n",
       "    </tr>\n",
       "    <tr>\n",
       "      <th>72596</th>\n",
       "      <td>2023-09-24</td>\n",
       "      <td>2020-12-01</td>\n",
       "      <td>2020-12-31</td>\n",
       "      <td>2020.0</td>\n",
       "      <td>12.0</td>\n",
       "      <td>Alabama</td>\n",
       "      <td>Respiratory diseases</td>\n",
       "      <td>Influenza and pneumonia</td>\n",
       "      <td>J09-J18</td>\n",
       "      <td>45-54</td>\n",
       "      <td>29.0</td>\n",
       "      <td>29.0</td>\n",
       "      <td>NaN</td>\n",
       "    </tr>\n",
       "    <tr>\n",
       "      <th>...</th>\n",
       "      <td>...</td>\n",
       "      <td>...</td>\n",
       "      <td>...</td>\n",
       "      <td>...</td>\n",
       "      <td>...</td>\n",
       "      <td>...</td>\n",
       "      <td>...</td>\n",
       "      <td>...</td>\n",
       "      <td>...</td>\n",
       "      <td>...</td>\n",
       "      <td>...</td>\n",
       "      <td>...</td>\n",
       "      <td>...</td>\n",
       "    </tr>\n",
       "    <tr>\n",
       "      <th>610527</th>\n",
       "      <td>2023-09-24</td>\n",
       "      <td>2021-01-01</td>\n",
       "      <td>2021-01-31</td>\n",
       "      <td>2021.0</td>\n",
       "      <td>1.0</td>\n",
       "      <td>Wyoming</td>\n",
       "      <td>COVID-19</td>\n",
       "      <td>COVID-19</td>\n",
       "      <td>U071</td>\n",
       "      <td>85+</td>\n",
       "      <td>33.0</td>\n",
       "      <td>33.0</td>\n",
       "      <td>NaN</td>\n",
       "    </tr>\n",
       "    <tr>\n",
       "      <th>610535</th>\n",
       "      <td>2023-09-24</td>\n",
       "      <td>2021-09-01</td>\n",
       "      <td>2021-09-30</td>\n",
       "      <td>2021.0</td>\n",
       "      <td>9.0</td>\n",
       "      <td>Wyoming</td>\n",
       "      <td>COVID-19</td>\n",
       "      <td>COVID-19</td>\n",
       "      <td>U071</td>\n",
       "      <td>85+</td>\n",
       "      <td>32.0</td>\n",
       "      <td>32.0</td>\n",
       "      <td>NaN</td>\n",
       "    </tr>\n",
       "    <tr>\n",
       "      <th>610536</th>\n",
       "      <td>2023-09-24</td>\n",
       "      <td>2021-10-01</td>\n",
       "      <td>2021-10-31</td>\n",
       "      <td>2021.0</td>\n",
       "      <td>10.0</td>\n",
       "      <td>Wyoming</td>\n",
       "      <td>COVID-19</td>\n",
       "      <td>COVID-19</td>\n",
       "      <td>U071</td>\n",
       "      <td>85+</td>\n",
       "      <td>47.0</td>\n",
       "      <td>47.0</td>\n",
       "      <td>NaN</td>\n",
       "    </tr>\n",
       "    <tr>\n",
       "      <th>610537</th>\n",
       "      <td>2023-09-24</td>\n",
       "      <td>2021-11-01</td>\n",
       "      <td>2021-11-30</td>\n",
       "      <td>2021.0</td>\n",
       "      <td>11.0</td>\n",
       "      <td>Wyoming</td>\n",
       "      <td>COVID-19</td>\n",
       "      <td>COVID-19</td>\n",
       "      <td>U071</td>\n",
       "      <td>85+</td>\n",
       "      <td>28.0</td>\n",
       "      <td>28.0</td>\n",
       "      <td>NaN</td>\n",
       "    </tr>\n",
       "    <tr>\n",
       "      <th>610540</th>\n",
       "      <td>2023-09-24</td>\n",
       "      <td>2022-02-01</td>\n",
       "      <td>2022-02-28</td>\n",
       "      <td>2022.0</td>\n",
       "      <td>2.0</td>\n",
       "      <td>Wyoming</td>\n",
       "      <td>COVID-19</td>\n",
       "      <td>COVID-19</td>\n",
       "      <td>U071</td>\n",
       "      <td>85+</td>\n",
       "      <td>27.0</td>\n",
       "      <td>27.0</td>\n",
       "      <td>NaN</td>\n",
       "    </tr>\n",
       "  </tbody>\n",
       "</table>\n",
       "<p>43020 rows × 13 columns</p>\n",
       "</div>"
      ],
      "text/plain": [
       "       Data As Of Start Date   End Date    Year  Month    State  \\\n",
       "72514  2023-09-24 2021-08-01 2021-08-31  2021.0    8.0  Alabama   \n",
       "72559  2023-09-24 2021-08-01 2021-08-31  2021.0    8.0  Alabama   \n",
       "72560  2023-09-24 2021-09-01 2021-09-30  2021.0    9.0  Alabama   \n",
       "72561  2023-09-24 2021-10-01 2021-10-31  2021.0   10.0  Alabama   \n",
       "72596  2023-09-24 2020-12-01 2020-12-31  2020.0   12.0  Alabama   \n",
       "...           ...        ...        ...     ...    ...      ...   \n",
       "610527 2023-09-24 2021-01-01 2021-01-31  2021.0    1.0  Wyoming   \n",
       "610535 2023-09-24 2021-09-01 2021-09-30  2021.0    9.0  Wyoming   \n",
       "610536 2023-09-24 2021-10-01 2021-10-31  2021.0   10.0  Wyoming   \n",
       "610537 2023-09-24 2021-11-01 2021-11-30  2021.0   11.0  Wyoming   \n",
       "610540 2023-09-24 2022-02-01 2022-02-28  2022.0    2.0  Wyoming   \n",
       "\n",
       "             Condition Group                Condition ICD10_codes Age Group  \\\n",
       "72514   Respiratory diseases  Influenza and pneumonia     J09-J18     25-34   \n",
       "72559   Respiratory diseases  Influenza and pneumonia     J09-J18     35-44   \n",
       "72560   Respiratory diseases  Influenza and pneumonia     J09-J18     35-44   \n",
       "72561   Respiratory diseases  Influenza and pneumonia     J09-J18     35-44   \n",
       "72596   Respiratory diseases  Influenza and pneumonia     J09-J18     45-54   \n",
       "...                      ...                      ...         ...       ...   \n",
       "610527              COVID-19                 COVID-19        U071       85+   \n",
       "610535              COVID-19                 COVID-19        U071       85+   \n",
       "610536              COVID-19                 COVID-19        U071       85+   \n",
       "610537              COVID-19                 COVID-19        U071       85+   \n",
       "610540              COVID-19                 COVID-19        U071       85+   \n",
       "\n",
       "        COVID-19 Deaths  Number of Mentions Flag  \n",
       "72514              30.0                31.0  NaN  \n",
       "72559              50.0                50.0  NaN  \n",
       "72560              53.0                56.0  NaN  \n",
       "72561              23.0                26.0  NaN  \n",
       "72596              29.0                29.0  NaN  \n",
       "...                 ...                 ...  ...  \n",
       "610527             33.0                33.0  NaN  \n",
       "610535             32.0                32.0  NaN  \n",
       "610536             47.0                47.0  NaN  \n",
       "610537             28.0                28.0  NaN  \n",
       "610540             27.0                27.0  NaN  \n",
       "\n",
       "[43020 rows x 13 columns]"
      ]
     },
     "execution_count": 46,
     "metadata": {},
     "output_type": "execute_result"
    }
   ],
   "source": [
    "mentions_outliers = find_column_outliers_IQR(df_covid_final_cleaned, 'Number of Mentions')\n",
    "mentions_outliers"
   ]
  },
  {
   "cell_type": "markdown",
   "id": "3b3d7660",
   "metadata": {},
   "source": [
    "### The Number of Mention column also has a significant number of outliers. This is due to the high number of Zeros in the data. The value appear reasonable in context and should , therefore be retained in the dataframe."
   ]
  },
  {
   "cell_type": "markdown",
   "id": "622afaa2",
   "metadata": {},
   "source": [
    "## 7. Exporting the Dataset"
   ]
  },
  {
   "cell_type": "markdown",
   "id": "3aa45345",
   "metadata": {},
   "source": [
    "### Final check of the 'df_covid_final_cleaned' dataframe before exporting"
   ]
  },
  {
   "cell_type": "code",
   "execution_count": 47,
   "id": "5a3fcb56",
   "metadata": {},
   "outputs": [
    {
     "name": "stdout",
     "output_type": "stream",
     "text": [
      "      Data As Of Start Date   End Date    Year  Month    State  \\\n",
      "72450 2023-09-24 2020-01-01 2020-01-31  2020.0    1.0  Alabama   \n",
      "72451 2023-09-24 2020-02-01 2020-02-29  2020.0    2.0  Alabama   \n",
      "72452 2023-09-24 2020-03-01 2020-03-31  2020.0    3.0  Alabama   \n",
      "72453 2023-09-24 2020-04-01 2020-04-30  2020.0    4.0  Alabama   \n",
      "72454 2023-09-24 2020-05-01 2020-05-31  2020.0    5.0  Alabama   \n",
      "\n",
      "            Condition Group                Condition ICD10_codes Age Group  \\\n",
      "72450  Respiratory diseases  Influenza and pneumonia     J09-J18      0-24   \n",
      "72451  Respiratory diseases  Influenza and pneumonia     J09-J18      0-24   \n",
      "72452  Respiratory diseases  Influenza and pneumonia     J09-J18      0-24   \n",
      "72453  Respiratory diseases  Influenza and pneumonia     J09-J18      0-24   \n",
      "72454  Respiratory diseases  Influenza and pneumonia     J09-J18      0-24   \n",
      "\n",
      "       COVID-19 Deaths  Number of Mentions Flag  \n",
      "72450              0.0                 0.0  NaN  \n",
      "72451              0.0                 0.0  NaN  \n",
      "72452              0.0                 0.0  NaN  \n",
      "72453              0.0                 0.0  NaN  \n",
      "72454              0.0                 0.0  NaN  \n",
      "<class 'pandas.core.frame.DataFrame'>\n",
      "Index: 430560 entries, 72450 to 610559\n",
      "Data columns (total 13 columns):\n",
      " #   Column              Non-Null Count   Dtype         \n",
      "---  ------              --------------   -----         \n",
      " 0   Data As Of          430560 non-null  datetime64[ns]\n",
      " 1   Start Date          430560 non-null  datetime64[ns]\n",
      " 2   End Date            430560 non-null  datetime64[ns]\n",
      " 3   Year                430560 non-null  float64       \n",
      " 4   Month               430560 non-null  float64       \n",
      " 5   State               430560 non-null  category      \n",
      " 6   Condition Group     430560 non-null  category      \n",
      " 7   Condition           430560 non-null  category      \n",
      " 8   ICD10_codes         430560 non-null  category      \n",
      " 9   Age Group           430560 non-null  category      \n",
      " 10  COVID-19 Deaths     430560 non-null  float64       \n",
      " 11  Number of Mentions  430560 non-null  float64       \n",
      " 12  Flag                150829 non-null  category      \n",
      "dtypes: category(6), datetime64[ns](3), float64(4)\n",
      "memory usage: 44.9 MB\n",
      "None\n"
     ]
    },
    {
     "data": {
      "text/plain": [
       "(430560, 13)"
      ]
     },
     "execution_count": 47,
     "metadata": {},
     "output_type": "execute_result"
    }
   ],
   "source": [
    "print(df_covid_final_cleaned.head())\n",
    "print(df_covid_final_cleaned.info())\n",
    "df_covid_final_cleaned.shape"
   ]
  },
  {
   "cell_type": "markdown",
   "id": "1b95282f",
   "metadata": {},
   "source": [
    "### Recheck the statistics of the dataframe"
   ]
  },
  {
   "cell_type": "code",
   "execution_count": 48,
   "id": "3b44b0a6",
   "metadata": {},
   "outputs": [
    {
     "data": {
      "text/html": [
       "<div>\n",
       "<style scoped>\n",
       "    .dataframe tbody tr th:only-of-type {\n",
       "        vertical-align: middle;\n",
       "    }\n",
       "\n",
       "    .dataframe tbody tr th {\n",
       "        vertical-align: top;\n",
       "    }\n",
       "\n",
       "    .dataframe thead th {\n",
       "        text-align: right;\n",
       "    }\n",
       "</style>\n",
       "<table border=\"1\" class=\"dataframe\">\n",
       "  <thead>\n",
       "    <tr style=\"text-align: right;\">\n",
       "      <th></th>\n",
       "      <th>Data As Of</th>\n",
       "      <th>Start Date</th>\n",
       "      <th>End Date</th>\n",
       "      <th>Year</th>\n",
       "      <th>Month</th>\n",
       "      <th>COVID-19 Deaths</th>\n",
       "      <th>Number of Mentions</th>\n",
       "    </tr>\n",
       "  </thead>\n",
       "  <tbody>\n",
       "    <tr>\n",
       "      <th>count</th>\n",
       "      <td>430560</td>\n",
       "      <td>430560</td>\n",
       "      <td>430560</td>\n",
       "      <td>430560.000000</td>\n",
       "      <td>430560.000000</td>\n",
       "      <td>430560.000000</td>\n",
       "      <td>430560.000000</td>\n",
       "    </tr>\n",
       "    <tr>\n",
       "      <th>mean</th>\n",
       "      <td>2023-09-24 00:00:00</td>\n",
       "      <td>2021-10-31 07:28:00.000001024</td>\n",
       "      <td>2021-11-29 13:52:00</td>\n",
       "      <td>2021.400000</td>\n",
       "      <td>6.200000</td>\n",
       "      <td>10.910452</td>\n",
       "      <td>11.777376</td>\n",
       "    </tr>\n",
       "    <tr>\n",
       "      <th>min</th>\n",
       "      <td>2023-09-24 00:00:00</td>\n",
       "      <td>2020-01-01 00:00:00</td>\n",
       "      <td>2020-01-31 00:00:00</td>\n",
       "      <td>2020.000000</td>\n",
       "      <td>1.000000</td>\n",
       "      <td>0.000000</td>\n",
       "      <td>0.000000</td>\n",
       "    </tr>\n",
       "    <tr>\n",
       "      <th>25%</th>\n",
       "      <td>2023-09-24 00:00:00</td>\n",
       "      <td>2020-12-01 00:00:00</td>\n",
       "      <td>2020-12-31 00:00:00</td>\n",
       "      <td>2020.000000</td>\n",
       "      <td>3.000000</td>\n",
       "      <td>0.000000</td>\n",
       "      <td>0.000000</td>\n",
       "    </tr>\n",
       "    <tr>\n",
       "      <th>50%</th>\n",
       "      <td>2023-09-24 00:00:00</td>\n",
       "      <td>2021-11-01 00:00:00</td>\n",
       "      <td>2021-11-30 00:00:00</td>\n",
       "      <td>2021.000000</td>\n",
       "      <td>6.000000</td>\n",
       "      <td>1.000000</td>\n",
       "      <td>1.000000</td>\n",
       "    </tr>\n",
       "    <tr>\n",
       "      <th>75%</th>\n",
       "      <td>2023-09-24 00:00:00</td>\n",
       "      <td>2022-10-01 00:00:00</td>\n",
       "      <td>2022-10-31 00:00:00</td>\n",
       "      <td>2022.000000</td>\n",
       "      <td>9.000000</td>\n",
       "      <td>7.000000</td>\n",
       "      <td>8.000000</td>\n",
       "    </tr>\n",
       "    <tr>\n",
       "      <th>max</th>\n",
       "      <td>2023-09-24 00:00:00</td>\n",
       "      <td>2023-09-01 00:00:00</td>\n",
       "      <td>2023-09-23 00:00:00</td>\n",
       "      <td>2023.000000</td>\n",
       "      <td>12.000000</td>\n",
       "      <td>5094.000000</td>\n",
       "      <td>5094.000000</td>\n",
       "    </tr>\n",
       "    <tr>\n",
       "      <th>std</th>\n",
       "      <td>NaN</td>\n",
       "      <td>NaN</td>\n",
       "      <td>NaN</td>\n",
       "      <td>1.083206</td>\n",
       "      <td>3.350626</td>\n",
       "      <td>53.958623</td>\n",
       "      <td>57.090917</td>\n",
       "    </tr>\n",
       "  </tbody>\n",
       "</table>\n",
       "</div>"
      ],
      "text/plain": [
       "                Data As Of                     Start Date  \\\n",
       "count               430560                         430560   \n",
       "mean   2023-09-24 00:00:00  2021-10-31 07:28:00.000001024   \n",
       "min    2023-09-24 00:00:00            2020-01-01 00:00:00   \n",
       "25%    2023-09-24 00:00:00            2020-12-01 00:00:00   \n",
       "50%    2023-09-24 00:00:00            2021-11-01 00:00:00   \n",
       "75%    2023-09-24 00:00:00            2022-10-01 00:00:00   \n",
       "max    2023-09-24 00:00:00            2023-09-01 00:00:00   \n",
       "std                    NaN                            NaN   \n",
       "\n",
       "                  End Date           Year          Month  COVID-19 Deaths  \\\n",
       "count               430560  430560.000000  430560.000000    430560.000000   \n",
       "mean   2021-11-29 13:52:00    2021.400000       6.200000        10.910452   \n",
       "min    2020-01-31 00:00:00    2020.000000       1.000000         0.000000   \n",
       "25%    2020-12-31 00:00:00    2020.000000       3.000000         0.000000   \n",
       "50%    2021-11-30 00:00:00    2021.000000       6.000000         1.000000   \n",
       "75%    2022-10-31 00:00:00    2022.000000       9.000000         7.000000   \n",
       "max    2023-09-23 00:00:00    2023.000000      12.000000      5094.000000   \n",
       "std                    NaN       1.083206       3.350626        53.958623   \n",
       "\n",
       "       Number of Mentions  \n",
       "count       430560.000000  \n",
       "mean            11.777376  \n",
       "min              0.000000  \n",
       "25%              0.000000  \n",
       "50%              1.000000  \n",
       "75%              8.000000  \n",
       "max           5094.000000  \n",
       "std             57.090917  "
      ]
     },
     "execution_count": 48,
     "metadata": {},
     "output_type": "execute_result"
    }
   ],
   "source": [
    "df_covid_final_cleaned.describe()"
   ]
  },
  {
   "cell_type": "markdown",
   "id": "081477fc",
   "metadata": {},
   "source": [
    "### Check counts of unique values in categorical variable"
   ]
  },
  {
   "cell_type": "code",
   "execution_count": 49,
   "id": "192edd95",
   "metadata": {},
   "outputs": [
    {
     "name": "stdout",
     "output_type": "stream",
     "text": [
      "State\n",
      "Alabama                 8280\n",
      "Montana                 8280\n",
      "Nevada                  8280\n",
      "New Hampshire           8280\n",
      "New Jersey              8280\n",
      "New Mexico              8280\n",
      "New York                8280\n",
      "New York City           8280\n",
      "North Carolina          8280\n",
      "North Dakota            8280\n",
      "Ohio                    8280\n",
      "Oklahoma                8280\n",
      "Oregon                  8280\n",
      "Pennsylvania            8280\n",
      "Rhode Island            8280\n",
      "South Carolina          8280\n",
      "South Dakota            8280\n",
      "Tennessee               8280\n",
      "Texas                   8280\n",
      "Utah                    8280\n",
      "Vermont                 8280\n",
      "Virginia                8280\n",
      "Washington              8280\n",
      "West Virginia           8280\n",
      "Wisconsin               8280\n",
      "Alaska                  8280\n",
      "Nebraska                8280\n",
      "Missouri                8280\n",
      "Mississippi             8280\n",
      "Arizona                 8280\n",
      "Arkansas                8280\n",
      "California              8280\n",
      "Colorado                8280\n",
      "Connecticut             8280\n",
      "Delaware                8280\n",
      "District of Columbia    8280\n",
      "Florida                 8280\n",
      "Georgia                 8280\n",
      "Hawaii                  8280\n",
      "Idaho                   8280\n",
      "Wyoming                 8280\n",
      "Illinois                8280\n",
      "Indiana                 8280\n",
      "Iowa                    8280\n",
      "Kansas                  8280\n",
      "Kentucky                8280\n",
      "Louisiana               8280\n",
      "Maine                   8280\n",
      "Maryland                8280\n",
      "Massachusetts           8280\n",
      "Michigan                8280\n",
      "Minnesota               8280\n",
      "United States              0\n",
      "Puerto Rico                0\n",
      "Name: count, dtype: int64\n"
     ]
    }
   ],
   "source": [
    "print(df_covid_final_cleaned['State'].value_counts(dropna=False))"
   ]
  },
  {
   "cell_type": "code",
   "execution_count": 50,
   "id": "33988f30",
   "metadata": {},
   "outputs": [
    {
     "name": "stdout",
     "output_type": "stream",
     "text": [
      "Condition Group\n",
      "Circulatory diseases                                                         131040\n",
      "Respiratory diseases                                                         112320\n",
      "All other conditions and causes (residual)                                    18720\n",
      "Alzheimer disease                                                             18720\n",
      "COVID-19                                                                      18720\n",
      "Diabetes                                                                      18720\n",
      "Intentional and unintentional injury, poisoning, and other adverse events     18720\n",
      "Malignant neoplasms                                                           18720\n",
      "Obesity                                                                       18720\n",
      "Renal failure                                                                 18720\n",
      "Sepsis                                                                        18720\n",
      "Vascular and unspecified dementia                                             18720\n",
      "Name: count, dtype: int64\n"
     ]
    }
   ],
   "source": [
    "print(df_covid_final_cleaned['Condition Group'].value_counts(dropna=False))"
   ]
  },
  {
   "cell_type": "code",
   "execution_count": 51,
   "id": "6d214c49",
   "metadata": {},
   "outputs": [
    {
     "name": "stdout",
     "output_type": "stream",
     "text": [
      "Condition\n",
      "Adult respiratory distress syndrome                                          18720\n",
      "Intentional and unintentional injury, poisoning, and other adverse events    18720\n",
      "Sepsis                                                                       18720\n",
      "Respiratory failure                                                          18720\n",
      "Respiratory arrest                                                           18720\n",
      "Renal failure                                                                18720\n",
      "Other diseases of the respiratory system                                     18720\n",
      "Other diseases of the circulatory system                                     18720\n",
      "Obesity                                                                      18720\n",
      "Malignant neoplasms                                                          18720\n",
      "Ischemic heart disease                                                       18720\n",
      "Influenza and pneumonia                                                      18720\n",
      "All other conditions and causes (residual)                                   18720\n",
      "Hypertensive diseases                                                        18720\n",
      "Heart failure                                                                18720\n",
      "Diabetes                                                                     18720\n",
      "Chronic lower respiratory diseases                                           18720\n",
      "Cerebrovascular diseases                                                     18720\n",
      "Cardiac arrhythmia                                                           18720\n",
      "Cardiac arrest                                                               18720\n",
      "COVID-19                                                                     18720\n",
      "Alzheimer disease                                                            18720\n",
      "Vascular and unspecified dementia                                            18720\n",
      "Name: count, dtype: int64\n"
     ]
    }
   ],
   "source": [
    "print(df_covid_final_cleaned['Condition'].value_counts(dropna=False))"
   ]
  },
  {
   "cell_type": "code",
   "execution_count": 52,
   "id": "b6e8d66b",
   "metadata": {},
   "outputs": [
    {
     "name": "stdout",
     "output_type": "stream",
     "text": [
      "ICD10_codes\n",
      "A00-A39, A42-B99, D00-E07, E15-E64, E70-E90, F00, F02, F04-G26, G31-H95, K00-K93, L00-M99, N00-N16, N20-N98, O00-O99, P00-P96, Q00-Q99, R00-R08, R09.0, R09.1, R09.3, R09.8, R10-R99    18720\n",
      "I50                                                                                                                                                                                     18720\n",
      "S00-T98, V01-X59, X60-X84, X85-Y09, Y10-Y36, Y40-Y89, U01-U03                                                                                                                           18720\n",
      "R09.2                                                                                                                                                                                   18720\n",
      "N17-N19                                                                                                                                                                                 18720\n",
      "J96                                                                                                                                                                                     18720\n",
      "J80                                                                                                                                                                                     18720\n",
      "J40-J47                                                                                                                                                                                 18720\n",
      "J09-J18                                                                                                                                                                                 18720\n",
      "J00-J06, J20-J39, J60-J70, J81-J86, J90-J95, J97-J99, U04                                                                                                                               18720\n",
      "I60-I69                                                                                                                                                                                 18720\n",
      "I46                                                                                                                                                                                     18720\n",
      "A40-A41                                                                                                                                                                                 18720\n",
      "I44, I45, I47-I49                                                                                                                                                                       18720\n",
      "I20-I25                                                                                                                                                                                 18720\n",
      "I10-I15                                                                                                                                                                                 18720\n",
      "I00-I09, I26-I43, I51, I52, I70-I99                                                                                                                                                     18720\n",
      "G30                                                                                                                                                                                     18720\n",
      "F01, F03                                                                                                                                                                                18720\n",
      "E65-E68                                                                                                                                                                                 18720\n",
      "E10-E14                                                                                                                                                                                 18720\n",
      "C00-C97                                                                                                                                                                                 18720\n",
      "U071                                                                                                                                                                                    18720\n",
      "Name: count, dtype: int64\n"
     ]
    }
   ],
   "source": [
    "print(df_covid_final_cleaned['ICD10_codes'].value_counts(dropna=False))"
   ]
  },
  {
   "cell_type": "code",
   "execution_count": 53,
   "id": "af20767c",
   "metadata": {},
   "outputs": [
    {
     "name": "stdout",
     "output_type": "stream",
     "text": [
      "Age Group\n",
      "0-24          53820\n",
      "25-34         53820\n",
      "35-44         53820\n",
      "45-54         53820\n",
      "55-64         53820\n",
      "65-74         53820\n",
      "75-84         53820\n",
      "85+           53820\n",
      "All Ages          0\n",
      "Not stated        0\n",
      "Name: count, dtype: int64\n"
     ]
    }
   ],
   "source": [
    "print(df_covid_final_cleaned['Age Group'].value_counts(dropna=False))"
   ]
  },
  {
   "cell_type": "code",
   "execution_count": 54,
   "id": "fc4d57c2",
   "metadata": {},
   "outputs": [
    {
     "name": "stdout",
     "output_type": "stream",
     "text": [
      "Flag\n",
      "NaN                                                                                                                           279731\n",
      "One or more data cells have counts between 1-9 and have been suppressed in accordance with NCHS confidentiality standards.    150829\n",
      "Name: count, dtype: int64\n"
     ]
    }
   ],
   "source": [
    "print(df_covid_final_cleaned['Flag'].value_counts(dropna=False))"
   ]
  },
  {
   "cell_type": "markdown",
   "id": "4e5c3ad1",
   "metadata": {},
   "source": [
    "### Export the final cleaned dataset as a CSV file"
   ]
  },
  {
   "cell_type": "code",
   "execution_count": 57,
   "id": "60605aaf",
   "metadata": {},
   "outputs": [],
   "source": [
    "export_path = r\"C:\\Users\\tjsra\\OneDrive\\Desktop\\CF data analyst\\Achievement 6\\02 Data\\prepared data\\Conditions_Contributing_to_COVID-19_Deaths_Cleaned.csv\""
   ]
  },
  {
   "cell_type": "code",
   "execution_count": 58,
   "id": "6cf2588b",
   "metadata": {},
   "outputs": [],
   "source": [
    "df_covid_final_cleaned.to_csv(export_path, index=False)"
   ]
  },
  {
   "cell_type": "code",
   "execution_count": null,
   "id": "a38ebc8b",
   "metadata": {},
   "outputs": [],
   "source": []
  }
 ],
 "metadata": {
  "kernelspec": {
   "display_name": "Python 3 (ipykernel)",
   "language": "python",
   "name": "python3"
  },
  "language_info": {
   "codemirror_mode": {
    "name": "ipython",
    "version": 3
   },
   "file_extension": ".py",
   "mimetype": "text/x-python",
   "name": "python",
   "nbconvert_exporter": "python",
   "pygments_lexer": "ipython3",
   "version": "3.11.7"
  }
 },
 "nbformat": 4,
 "nbformat_minor": 5
}
